{
 "cells": [
  {
   "cell_type": "code",
   "execution_count": 1,
   "metadata": {
    "executionInfo": {
     "elapsed": 554,
     "status": "ok",
     "timestamp": 1644334861221,
     "user": {
      "displayName": "Paul Meza-Morales",
      "photoUrl": "https://lh3.googleusercontent.com/a/default-user=s64",
      "userId": "09980096254882972363"
     },
     "user_tz": 480
    },
    "id": "z8SF6xhS5k0Y"
   },
   "outputs": [],
   "source": [
    "import numpy as np\n",
    "import pandas as pd\n",
    "import statistics as st\n",
    "import itertools as it\n",
    "import pickle as pkl\n",
    "\n",
    "import scipy\n",
    "import joblib\n",
    "import math\n",
    "import os\n",
    "import re\n",
    "\n",
    "import operator\n",
    "from mpl_toolkits.mplot3d import Axes3D\n",
    "import matplotlib.pyplot as plt\n",
    "import matplotlib.gridspec as gridspec\n",
    "import matplotlib as mpl\n",
    "\n",
    "import seaborn as sns\n",
    "plt.style.use('ggplot')"
   ]
  },
  {
   "cell_type": "code",
   "execution_count": 2,
   "metadata": {
    "colab": {
     "base_uri": "https://localhost:8080/",
     "height": 35
    },
    "executionInfo": {
     "elapsed": 13,
     "status": "ok",
     "timestamp": 1644334861226,
     "user": {
      "displayName": "Paul Meza-Morales",
      "photoUrl": "https://lh3.googleusercontent.com/a/default-user=s64",
      "userId": "09980096254882972363"
     },
     "user_tz": 480
    },
    "id": "afT871RN6PDi",
    "outputId": "b10f671d-6c82-4fef-c122-bad3a054e340"
   },
   "outputs": [
    {
     "data": {
      "text/plain": [
       "'1.1.1'"
      ]
     },
     "execution_count": 2,
     "metadata": {},
     "output_type": "execute_result"
    }
   ],
   "source": [
    "import sklearn\n",
    "sklearn.__version__"
   ]
  },
  {
   "cell_type": "code",
   "execution_count": 3,
   "metadata": {
    "executionInfo": {
     "elapsed": 11,
     "status": "ok",
     "timestamp": 1644334861226,
     "user": {
      "displayName": "Paul Meza-Morales",
      "photoUrl": "https://lh3.googleusercontent.com/a/default-user=s64",
      "userId": "09980096254882972363"
     },
     "user_tz": 480
    },
    "id": "qgpnVDk16x2n"
   },
   "outputs": [],
   "source": [
    "#!pip uninstall scikit-learn -y\n",
    "#!pip install scikit-learn==0.18.2"
   ]
  },
  {
   "cell_type": "code",
   "execution_count": 4,
   "metadata": {
    "executionInfo": {
     "elapsed": 11,
     "status": "ok",
     "timestamp": 1644334861227,
     "user": {
      "displayName": "Paul Meza-Morales",
      "photoUrl": "https://lh3.googleusercontent.com/a/default-user=s64",
      "userId": "09980096254882972363"
     },
     "user_tz": 480
    },
    "id": "Hzkwfa-N6Zxj"
   },
   "outputs": [],
   "source": [
    "#from sklearn.utils.fixes import MaskedArray\n",
    "# replaced by\n",
    "from numpy.ma import MaskedArray"
   ]
  },
  {
   "cell_type": "code",
   "execution_count": 5,
   "metadata": {
    "executionInfo": {
     "elapsed": 509,
     "status": "ok",
     "timestamp": 1644334861725,
     "user": {
      "displayName": "Paul Meza-Morales",
      "photoUrl": "https://lh3.googleusercontent.com/a/default-user=s64",
      "userId": "09980096254882972363"
     },
     "user_tz": 480
    },
    "id": "r13YQXrJ4--5"
   },
   "outputs": [
    {
     "name": "stderr",
     "output_type": "stream",
     "text": [
      "/home/sirfumi/miniconda3/envs/mmpaper/lib/python3.10/site-packages/xgboost/compat.py:36: FutureWarning: pandas.Int64Index is deprecated and will be removed from pandas in a future version. Use pandas.Index with the appropriate dtype instead.\n",
      "  from pandas import MultiIndex, Int64Index\n"
     ]
    }
   ],
   "source": [
    "from sklearn.model_selection import train_test_split\n",
    "from sklearn.model_selection import cross_val_score\n",
    "from sklearn.model_selection import GridSearchCV\n",
    "from sklearn.model_selection import StratifiedKFold\n",
    "from sklearn.model_selection import KFold\n",
    "from sklearn.model_selection import ShuffleSplit\n",
    "\n",
    "from sklearn import preprocessing\n",
    "from sklearn.decomposition import PCA\n",
    "from sklearn.cluster import KMeans\n",
    "\n",
    "from sklearn.preprocessing import StandardScaler\n",
    "from sklearn.preprocessing import MaxAbsScaler\n",
    "from sklearn.preprocessing import RobustScaler\n",
    "from sklearn.preprocessing import OrdinalEncoder\n",
    "from sklearn.feature_selection import SelectKBest\n",
    "\n",
    "from sklearn.feature_selection import RFE\n",
    "from sklearn.feature_selection import RFECV\n",
    "from sklearn.feature_selection import GenericUnivariateSelect\n",
    "from sklearn.feature_selection import mutual_info_regression\n",
    "from sklearn.feature_selection import f_regression\n",
    "from sklearn.feature_selection import VarianceThreshold\n",
    "\n",
    "from sklearn.ensemble import RandomForestRegressor\n",
    "from sklearn.ensemble import RandomForestRegressor\n",
    "\n",
    "from sklearn.pipeline import Pipeline\n",
    "\n",
    "from sklearn.linear_model import LinearRegression\n",
    "\n",
    "from sklearn.metrics import mean_squared_error\n",
    "from sklearn.metrics import mean_absolute_error\n",
    "from sklearn.metrics import r2_score, auc\n",
    "from sklearn.metrics import fbeta_score, make_scorer\n",
    "\n",
    "from xgboost import XGBRegressor\n",
    "\n",
    "from sklearn import tree\n",
    "from sklearn.tree import DecisionTreeClassifier\n",
    "\n",
    "import xgboost as xgb\n",
    "from xgboost import plot_importance\n",
    "from xgboost import plot_tree\n",
    "\n",
    "from graphviz import Graph\n",
    "\n",
    "from scipy.stats import norm"
   ]
  },
  {
   "cell_type": "code",
   "execution_count": 6,
   "metadata": {
    "executionInfo": {
     "elapsed": 245,
     "status": "ok",
     "timestamp": 1644334861963,
     "user": {
      "displayName": "Paul Meza-Morales",
      "photoUrl": "https://lh3.googleusercontent.com/a/default-user=s64",
      "userId": "09980096254882972363"
     },
     "user_tz": 480
    },
    "id": "rGyj1ekQ4--5"
   },
   "outputs": [],
   "source": [
    "from skopt.space import Real, Categorical, Integer\n",
    "from skopt.space import Categorical\n",
    "from skopt.utils import use_named_args\n",
    "from skopt import gp_minimize\n",
    "from skopt import BayesSearchCV"
   ]
  },
  {
   "cell_type": "code",
   "execution_count": 7,
   "metadata": {
    "executionInfo": {
     "elapsed": 5,
     "status": "ok",
     "timestamp": 1644334861964,
     "user": {
      "displayName": "Paul Meza-Morales",
      "photoUrl": "https://lh3.googleusercontent.com/a/default-user=s64",
      "userId": "09980096254882972363"
     },
     "user_tz": 480
    },
    "id": "Z2Tas44F4--6"
   },
   "outputs": [],
   "source": [
    "import warnings\n",
    "warnings.filterwarnings('ignore')"
   ]
  },
  {
   "cell_type": "code",
   "execution_count": 8,
   "metadata": {
    "executionInfo": {
     "elapsed": 4,
     "status": "ok",
     "timestamp": 1644334861964,
     "user": {
      "displayName": "Paul Meza-Morales",
      "photoUrl": "https://lh3.googleusercontent.com/a/default-user=s64",
      "userId": "09980096254882972363"
     },
     "user_tz": 480
    },
    "id": "Sy2TQFt64--6"
   },
   "outputs": [],
   "source": [
    "pd.set_option('display.max_columns', None)\n",
    "pd.set_option('display.max_rows', None)"
   ]
  },
  {
   "cell_type": "code",
   "execution_count": 9,
   "metadata": {
    "colab": {
     "base_uri": "https://localhost:8080/",
     "height": 461
    },
    "executionInfo": {
     "elapsed": 1140,
     "status": "ok",
     "timestamp": 1644334863101,
     "user": {
      "displayName": "Paul Meza-Morales",
      "photoUrl": "https://lh3.googleusercontent.com/a/default-user=s64",
      "userId": "09980096254882972363"
     },
     "user_tz": 480
    },
    "id": "egRc6-BM4--7",
    "outputId": "c74f0ee6-926b-47a9-f1d7-c157fde1c194"
   },
   "outputs": [
    {
     "data": {
      "text/html": [
       "<div>\n",
       "<style scoped>\n",
       "    .dataframe tbody tr th:only-of-type {\n",
       "        vertical-align: middle;\n",
       "    }\n",
       "\n",
       "    .dataframe tbody tr th {\n",
       "        vertical-align: top;\n",
       "    }\n",
       "\n",
       "    .dataframe thead th {\n",
       "        text-align: right;\n",
       "    }\n",
       "</style>\n",
       "<table border=\"1\" class=\"dataframe\">\n",
       "  <thead>\n",
       "    <tr style=\"text-align: right;\">\n",
       "      <th></th>\n",
       "      <th>material_id</th>\n",
       "      <th>formula</th>\n",
       "      <th>spacegroup</th>\n",
       "      <th>spacegroup_symbol</th>\n",
       "      <th>crystal_system</th>\n",
       "      <th>crossings_+-1eV</th>\n",
       "      <th>crossings_+-2eV</th>\n",
       "      <th>composition</th>\n",
       "      <th>composition_oxid</th>\n",
       "      <th>density</th>\n",
       "      <th>vpa</th>\n",
       "      <th>packing fraction</th>\n",
       "      <th>max packing efficiency</th>\n",
       "      <th>ewald_energy_per_atom</th>\n",
       "      <th>mean absolute deviation in relative bond length</th>\n",
       "      <th>mean neighbor distance variation</th>\n",
       "      <th>mean absolute deviation in relative cell size</th>\n",
       "      <th>structural complexity per atom</th>\n",
       "      <th>structural complexity per cell</th>\n",
       "      <th>frac s valence electrons</th>\n",
       "      <th>frac p valence electrons</th>\n",
       "      <th>frac d valence electrons</th>\n",
       "      <th>frac f valence electrons</th>\n",
       "      <th>max ionic char</th>\n",
       "      <th>avg ionic char</th>\n",
       "      <th>HOMO_energy</th>\n",
       "      <th>LUMO_energy</th>\n",
       "      <th>gap_AO</th>\n",
       "      <th>HOMO_character</th>\n",
       "      <th>HOMO_element</th>\n",
       "      <th>LUMO_character</th>\n",
       "      <th>LUMO_element</th>\n",
       "    </tr>\n",
       "  </thead>\n",
       "  <tbody>\n",
       "    <tr>\n",
       "      <th>0</th>\n",
       "      <td>mp-1111916</td>\n",
       "      <td>K2NaTiF6</td>\n",
       "      <td>225</td>\n",
       "      <td>Fm-3m</td>\n",
       "      <td>cubic</td>\n",
       "      <td>0.0</td>\n",
       "      <td>4.0</td>\n",
       "      <td>(K, Na, Ti, F)</td>\n",
       "      <td>(K+, Na+, Ti3+, F-)</td>\n",
       "      <td>2.833639</td>\n",
       "      <td>15.414612</td>\n",
       "      <td>0.832127</td>\n",
       "      <td>0.412249</td>\n",
       "      <td>-9.397323</td>\n",
       "      <td>8.289707e-02</td>\n",
       "      <td>0.072261</td>\n",
       "      <td>1.469407e-01</td>\n",
       "      <td>1.570951</td>\n",
       "      <td>15.709506</td>\n",
       "      <td>0.346939</td>\n",
       "      <td>0.612245</td>\n",
       "      <td>0.040816</td>\n",
       "      <td>0.000000</td>\n",
       "      <td>0.917619</td>\n",
       "      <td>0.214087</td>\n",
       "      <td>-0.170010</td>\n",
       "      <td>-0.170010</td>\n",
       "      <td>0.000000</td>\n",
       "      <td>0.0</td>\n",
       "      <td>56.0</td>\n",
       "      <td>0.0</td>\n",
       "      <td>56.0</td>\n",
       "    </tr>\n",
       "    <tr>\n",
       "      <th>1</th>\n",
       "      <td>mp-1114332</td>\n",
       "      <td>Na3PdF6</td>\n",
       "      <td>225</td>\n",
       "      <td>Fm-3m</td>\n",
       "      <td>cubic</td>\n",
       "      <td>0.0</td>\n",
       "      <td>4.0</td>\n",
       "      <td>(Na, Pd, F)</td>\n",
       "      <td>(Na0+, Pd0+, F0+)</td>\n",
       "      <td>3.199327</td>\n",
       "      <td>15.019607</td>\n",
       "      <td>0.585386</td>\n",
       "      <td>0.427854</td>\n",
       "      <td>0.000000</td>\n",
       "      <td>8.378608e-02</td>\n",
       "      <td>0.073153</td>\n",
       "      <td>1.491459e-01</td>\n",
       "      <td>1.570951</td>\n",
       "      <td>15.709506</td>\n",
       "      <td>0.272727</td>\n",
       "      <td>0.545455</td>\n",
       "      <td>0.181818</td>\n",
       "      <td>0.000000</td>\n",
       "      <td>0.902278</td>\n",
       "      <td>0.205192</td>\n",
       "      <td>-0.160771</td>\n",
       "      <td>-0.160771</td>\n",
       "      <td>0.000000</td>\n",
       "      <td>0.0</td>\n",
       "      <td>40.0</td>\n",
       "      <td>0.0</td>\n",
       "      <td>40.0</td>\n",
       "    </tr>\n",
       "    <tr>\n",
       "      <th>2</th>\n",
       "      <td>mp-1183466</td>\n",
       "      <td>Ca2PtAu</td>\n",
       "      <td>225</td>\n",
       "      <td>Fm-3m</td>\n",
       "      <td>cubic</td>\n",
       "      <td>8.0</td>\n",
       "      <td>18.0</td>\n",
       "      <td>(Ca, Pt, Au)</td>\n",
       "      <td>(Ca0+, Pt0+, Au0+)</td>\n",
       "      <td>8.595556</td>\n",
       "      <td>22.805898</td>\n",
       "      <td>0.761536</td>\n",
       "      <td>0.680175</td>\n",
       "      <td>0.000000</td>\n",
       "      <td>5.551115e-17</td>\n",
       "      <td>0.051982</td>\n",
       "      <td>1.168354e-16</td>\n",
       "      <td>1.500000</td>\n",
       "      <td>6.000000</td>\n",
       "      <td>0.113208</td>\n",
       "      <td>0.000000</td>\n",
       "      <td>0.358491</td>\n",
       "      <td>0.528302</td>\n",
       "      <td>0.447278</td>\n",
       "      <td>0.098968</td>\n",
       "      <td>-0.141411</td>\n",
       "      <td>-0.141411</td>\n",
       "      <td>0.000000</td>\n",
       "      <td>2.0</td>\n",
       "      <td>10.0</td>\n",
       "      <td>2.0</td>\n",
       "      <td>10.0</td>\n",
       "    </tr>\n",
       "    <tr>\n",
       "      <th>3</th>\n",
       "      <td>mp-1184870</td>\n",
       "      <td>InAgAu2</td>\n",
       "      <td>225</td>\n",
       "      <td>Fm-3m</td>\n",
       "      <td>cubic</td>\n",
       "      <td>2.0</td>\n",
       "      <td>3.0</td>\n",
       "      <td>(In, Ag, Au)</td>\n",
       "      <td>(In+, Ag+, Au-)</td>\n",
       "      <td>13.370065</td>\n",
       "      <td>19.145765</td>\n",
       "      <td>0.696862</td>\n",
       "      <td>0.680175</td>\n",
       "      <td>-4.347833</td>\n",
       "      <td>1.110223e-16</td>\n",
       "      <td>0.051982</td>\n",
       "      <td>1.391710e-16</td>\n",
       "      <td>1.500000</td>\n",
       "      <td>6.000000</td>\n",
       "      <td>0.067568</td>\n",
       "      <td>0.013514</td>\n",
       "      <td>0.540541</td>\n",
       "      <td>0.378378</td>\n",
       "      <td>0.134459</td>\n",
       "      <td>0.028262</td>\n",
       "      <td>-0.162334</td>\n",
       "      <td>-0.157407</td>\n",
       "      <td>0.004927</td>\n",
       "      <td>2.0</td>\n",
       "      <td>3.0</td>\n",
       "      <td>2.0</td>\n",
       "      <td>0.0</td>\n",
       "    </tr>\n",
       "    <tr>\n",
       "      <th>4</th>\n",
       "      <td>mp-1187434</td>\n",
       "      <td>Ti2FeTc</td>\n",
       "      <td>225</td>\n",
       "      <td>Fm-3m</td>\n",
       "      <td>cubic</td>\n",
       "      <td>26.0</td>\n",
       "      <td>112.0</td>\n",
       "      <td>(Ti, Fe, Tc)</td>\n",
       "      <td>(Ti0+, Fe0+, Tc0+)</td>\n",
       "      <td>7.401171</td>\n",
       "      <td>13.998991</td>\n",
       "      <td>0.799845</td>\n",
       "      <td>0.680175</td>\n",
       "      <td>0.000000</td>\n",
       "      <td>1.110223e-16</td>\n",
       "      <td>0.051982</td>\n",
       "      <td>1.268918e-16</td>\n",
       "      <td>1.500000</td>\n",
       "      <td>6.000000</td>\n",
       "      <td>0.347826</td>\n",
       "      <td>0.000000</td>\n",
       "      <td>0.652174</td>\n",
       "      <td>0.000000</td>\n",
       "      <td>0.031881</td>\n",
       "      <td>0.006662</td>\n",
       "      <td>-0.183636</td>\n",
       "      <td>-0.183636</td>\n",
       "      <td>0.000000</td>\n",
       "      <td>2.0</td>\n",
       "      <td>54.0</td>\n",
       "      <td>2.0</td>\n",
       "      <td>54.0</td>\n",
       "    </tr>\n",
       "  </tbody>\n",
       "</table>\n",
       "</div>"
      ],
      "text/plain": [
       "  material_id   formula  spacegroup spacegroup_symbol crystal_system  \\\n",
       "0  mp-1111916  K2NaTiF6         225             Fm-3m          cubic   \n",
       "1  mp-1114332   Na3PdF6         225             Fm-3m          cubic   \n",
       "2  mp-1183466   Ca2PtAu         225             Fm-3m          cubic   \n",
       "3  mp-1184870   InAgAu2         225             Fm-3m          cubic   \n",
       "4  mp-1187434   Ti2FeTc         225             Fm-3m          cubic   \n",
       "\n",
       "   crossings_+-1eV  crossings_+-2eV     composition     composition_oxid  \\\n",
       "0              0.0              4.0  (K, Na, Ti, F)  (K+, Na+, Ti3+, F-)   \n",
       "1              0.0              4.0     (Na, Pd, F)    (Na0+, Pd0+, F0+)   \n",
       "2              8.0             18.0    (Ca, Pt, Au)   (Ca0+, Pt0+, Au0+)   \n",
       "3              2.0              3.0    (In, Ag, Au)      (In+, Ag+, Au-)   \n",
       "4             26.0            112.0    (Ti, Fe, Tc)   (Ti0+, Fe0+, Tc0+)   \n",
       "\n",
       "     density        vpa  packing fraction  max packing efficiency  \\\n",
       "0   2.833639  15.414612          0.832127                0.412249   \n",
       "1   3.199327  15.019607          0.585386                0.427854   \n",
       "2   8.595556  22.805898          0.761536                0.680175   \n",
       "3  13.370065  19.145765          0.696862                0.680175   \n",
       "4   7.401171  13.998991          0.799845                0.680175   \n",
       "\n",
       "   ewald_energy_per_atom  mean absolute deviation in relative bond length  \\\n",
       "0              -9.397323                                     8.289707e-02   \n",
       "1               0.000000                                     8.378608e-02   \n",
       "2               0.000000                                     5.551115e-17   \n",
       "3              -4.347833                                     1.110223e-16   \n",
       "4               0.000000                                     1.110223e-16   \n",
       "\n",
       "   mean neighbor distance variation  \\\n",
       "0                          0.072261   \n",
       "1                          0.073153   \n",
       "2                          0.051982   \n",
       "3                          0.051982   \n",
       "4                          0.051982   \n",
       "\n",
       "   mean absolute deviation in relative cell size  \\\n",
       "0                                   1.469407e-01   \n",
       "1                                   1.491459e-01   \n",
       "2                                   1.168354e-16   \n",
       "3                                   1.391710e-16   \n",
       "4                                   1.268918e-16   \n",
       "\n",
       "   structural complexity per atom  structural complexity per cell  \\\n",
       "0                        1.570951                       15.709506   \n",
       "1                        1.570951                       15.709506   \n",
       "2                        1.500000                        6.000000   \n",
       "3                        1.500000                        6.000000   \n",
       "4                        1.500000                        6.000000   \n",
       "\n",
       "   frac s valence electrons  frac p valence electrons  \\\n",
       "0                  0.346939                  0.612245   \n",
       "1                  0.272727                  0.545455   \n",
       "2                  0.113208                  0.000000   \n",
       "3                  0.067568                  0.013514   \n",
       "4                  0.347826                  0.000000   \n",
       "\n",
       "   frac d valence electrons  frac f valence electrons  max ionic char  \\\n",
       "0                  0.040816                  0.000000        0.917619   \n",
       "1                  0.181818                  0.000000        0.902278   \n",
       "2                  0.358491                  0.528302        0.447278   \n",
       "3                  0.540541                  0.378378        0.134459   \n",
       "4                  0.652174                  0.000000        0.031881   \n",
       "\n",
       "   avg ionic char  HOMO_energy  LUMO_energy    gap_AO  HOMO_character  \\\n",
       "0        0.214087    -0.170010    -0.170010  0.000000             0.0   \n",
       "1        0.205192    -0.160771    -0.160771  0.000000             0.0   \n",
       "2        0.098968    -0.141411    -0.141411  0.000000             2.0   \n",
       "3        0.028262    -0.162334    -0.157407  0.004927             2.0   \n",
       "4        0.006662    -0.183636    -0.183636  0.000000             2.0   \n",
       "\n",
       "   HOMO_element  LUMO_character  LUMO_element  \n",
       "0          56.0             0.0          56.0  \n",
       "1          40.0             0.0          40.0  \n",
       "2          10.0             2.0          10.0  \n",
       "3           3.0             2.0           0.0  \n",
       "4          54.0             2.0          54.0  "
      ]
     },
     "execution_count": 9,
     "metadata": {},
     "output_type": "execute_result"
    }
   ],
   "source": [
    "MLdf = pd.read_pickle('./no-f-matminer-FeaturedData.pkl')\n",
    "MLdf.head(5)"
   ]
  },
  {
   "cell_type": "code",
   "execution_count": 10,
   "metadata": {
    "colab": {
     "base_uri": "https://localhost:8080/"
    },
    "executionInfo": {
     "elapsed": 23,
     "status": "ok",
     "timestamp": 1644334863102,
     "user": {
      "displayName": "Paul Meza-Morales",
      "photoUrl": "https://lh3.googleusercontent.com/a/default-user=s64",
      "userId": "09980096254882972363"
     },
     "user_tz": 480
    },
    "id": "OyXEH5OwfMqr",
    "outputId": "731b84c0-9801-4afc-ed02-87c5c994e297"
   },
   "outputs": [
    {
     "data": {
      "text/plain": [
       "material_id                                         0\n",
       "formula                                             0\n",
       "spacegroup                                          0\n",
       "spacegroup_symbol                                   0\n",
       "crystal_system                                      0\n",
       "crossings_+-1eV                                     0\n",
       "crossings_+-2eV                                     0\n",
       "composition                                         0\n",
       "composition_oxid                                    0\n",
       "density                                             3\n",
       "vpa                                                 3\n",
       "packing fraction                                    3\n",
       "max packing efficiency                              0\n",
       "ewald_energy_per_atom                               0\n",
       "mean absolute deviation in relative bond length     0\n",
       "mean neighbor distance variation                    0\n",
       "mean absolute deviation in relative cell size       0\n",
       "structural complexity per atom                      0\n",
       "structural complexity per cell                      0\n",
       "frac s valence electrons                            0\n",
       "frac p valence electrons                            0\n",
       "frac d valence electrons                            0\n",
       "frac f valence electrons                            0\n",
       "max ionic char                                      0\n",
       "avg ionic char                                      0\n",
       "HOMO_energy                                        35\n",
       "LUMO_energy                                        35\n",
       "gap_AO                                             35\n",
       "HOMO_character                                     35\n",
       "HOMO_element                                       35\n",
       "LUMO_character                                     35\n",
       "LUMO_element                                       35\n",
       "dtype: int64"
      ]
     },
     "execution_count": 10,
     "metadata": {},
     "output_type": "execute_result"
    }
   ],
   "source": [
    "MLdf.isnull().sum()"
   ]
  },
  {
   "cell_type": "code",
   "execution_count": 11,
   "metadata": {
    "executionInfo": {
     "elapsed": 13,
     "status": "ok",
     "timestamp": 1644334863103,
     "user": {
      "displayName": "Paul Meza-Morales",
      "photoUrl": "https://lh3.googleusercontent.com/a/default-user=s64",
      "userId": "09980096254882972363"
     },
     "user_tz": 480
    },
    "id": "Ldnv9HTCQB8W"
   },
   "outputs": [],
   "source": [
    "MLdf = MLdf.dropna()"
   ]
  },
  {
   "cell_type": "code",
   "execution_count": 12,
   "metadata": {
    "colab": {
     "base_uri": "https://localhost:8080/"
    },
    "executionInfo": {
     "elapsed": 14,
     "status": "ok",
     "timestamp": 1644334863104,
     "user": {
      "displayName": "Paul Meza-Morales",
      "photoUrl": "https://lh3.googleusercontent.com/a/default-user=s64",
      "userId": "09980096254882972363"
     },
     "user_tz": 480
    },
    "id": "X3mwDASDQGYz",
    "outputId": "ad0e29f5-f376-4efb-db91-ecbd82c24bd0"
   },
   "outputs": [
    {
     "data": {
      "text/plain": [
       "material_id                                        0\n",
       "formula                                            0\n",
       "spacegroup                                         0\n",
       "spacegroup_symbol                                  0\n",
       "crystal_system                                     0\n",
       "crossings_+-1eV                                    0\n",
       "crossings_+-2eV                                    0\n",
       "composition                                        0\n",
       "composition_oxid                                   0\n",
       "density                                            0\n",
       "vpa                                                0\n",
       "packing fraction                                   0\n",
       "max packing efficiency                             0\n",
       "ewald_energy_per_atom                              0\n",
       "mean absolute deviation in relative bond length    0\n",
       "mean neighbor distance variation                   0\n",
       "mean absolute deviation in relative cell size      0\n",
       "structural complexity per atom                     0\n",
       "structural complexity per cell                     0\n",
       "frac s valence electrons                           0\n",
       "frac p valence electrons                           0\n",
       "frac d valence electrons                           0\n",
       "frac f valence electrons                           0\n",
       "max ionic char                                     0\n",
       "avg ionic char                                     0\n",
       "HOMO_energy                                        0\n",
       "LUMO_energy                                        0\n",
       "gap_AO                                             0\n",
       "HOMO_character                                     0\n",
       "HOMO_element                                       0\n",
       "LUMO_character                                     0\n",
       "LUMO_element                                       0\n",
       "dtype: int64"
      ]
     },
     "execution_count": 12,
     "metadata": {},
     "output_type": "execute_result"
    }
   ],
   "source": [
    "MLdf.isnull().sum()"
   ]
  },
  {
   "cell_type": "code",
   "execution_count": 13,
   "metadata": {
    "colab": {
     "base_uri": "https://localhost:8080/"
    },
    "executionInfo": {
     "elapsed": 10,
     "status": "ok",
     "timestamp": 1644334863104,
     "user": {
      "displayName": "Paul Meza-Morales",
      "photoUrl": "https://lh3.googleusercontent.com/a/default-user=s64",
      "userId": "09980096254882972363"
     },
     "user_tz": 480
    },
    "id": "VzcugW04QMdW",
    "outputId": "ea0d0f59-e063-4fcc-b686-b9fa3de267ee"
   },
   "outputs": [
    {
     "data": {
      "text/plain": [
       "3751"
      ]
     },
     "execution_count": 13,
     "metadata": {},
     "output_type": "execute_result"
    }
   ],
   "source": [
    "len(MLdf)"
   ]
  },
  {
   "cell_type": "code",
   "execution_count": 14,
   "metadata": {
    "colab": {
     "base_uri": "https://localhost:8080/",
     "height": 415
    },
    "executionInfo": {
     "elapsed": 1027,
     "status": "ok",
     "timestamp": 1644334864123,
     "user": {
      "displayName": "Paul Meza-Morales",
      "photoUrl": "https://lh3.googleusercontent.com/a/default-user=s64",
      "userId": "09980096254882972363"
     },
     "user_tz": 480
    },
    "id": "Nf7RDQPzQcCt",
    "outputId": "a20befbe-2dd6-4fae-b8c6-fc70873fe7b3"
   },
   "outputs": [
    {
     "data": {
      "image/png": "[encoded data removed]",
      "text/plain": [
       "<Figure size 576x432 with 2 Axes>"
      ]
     },
     "metadata": {},
     "output_type": "display_data"
    }
   ],
   "source": [
    "f, (ax_box, ax_hist) = plt.subplots(2, sharex=True, gridspec_kw={\"height_ratios\": (.30, .85)}, figsize=(8, 6))\n",
    "\n",
    "sns.boxplot(x=MLdf['crossings_+-1eV'], \n",
    "            #hue=\"spacegroup_symbol\", \n",
    "            color='silver', \n",
    "            linewidth=2.5, \n",
    "            #showmeans=True, \n",
    "            ax=ax_box)\n",
    "\n",
    "sns.histplot(data=MLdf, \n",
    "            x=MLdf['crossings_+-1eV'], \n",
    "            bins=30, \n",
    "            hue=\"spacegroup_symbol\", \n",
    "            element=\"step\", \n",
    "            stat=\"count\", \n",
    "            multiple=\"stack\", \n",
    "            alpha=0.5, \n",
    "            palette='gnuplot', \n",
    "            legend=True, \n",
    "            ax=ax_hist\n",
    "            )\n",
    "\n",
    "\n",
    "ax_box.set(xlabel='')\n",
    "#ax_violin.set(xlabel='')\n",
    "\n",
    "ax_hist.set_xlabel('number of crossings within $\\pm$ 1eV', fontsize = 25)\n",
    "ax_hist.set_ylabel('Counting', fontsize = 25)\n",
    "\n",
    "ax_hist.xaxis.set_tick_params(labelsize=20, rotation=0)\n",
    "ax_hist.yaxis.set_tick_params(labelsize=20, rotation=0)\n",
    "ax_hist.set_xscale(\"linear\")\n",
    "ax_hist.set_yscale(\"linear\")\n",
    "#ax_hist.legend(loc='upper right')"
   ]
  },
  {
   "cell_type": "code",
   "execution_count": 15,
   "metadata": {
    "colab": {
     "base_uri": "https://localhost:8080/"
    },
    "executionInfo": {
     "elapsed": 81,
     "status": "ok",
     "timestamp": 1644334864128,
     "user": {
      "displayName": "Paul Meza-Morales",
      "photoUrl": "https://lh3.googleusercontent.com/a/default-user=s64",
      "userId": "09980096254882972363"
     },
     "user_tz": 480
    },
    "id": "eymes7zK5tgI",
    "outputId": "85ccd27a-4f22-416c-9c8d-86927acd7782"
   },
   "outputs": [
    {
     "data": {
      "text/plain": [
       "array([False, False, False, False, False, False, False, False, False,\n",
       "       False, False, False, False, False, False, False, False, False,\n",
       "       False, False, False, False, False, False, False, False, False,\n",
       "       False, False, False, False, False])"
      ]
     },
     "execution_count": 15,
     "metadata": {},
     "output_type": "execute_result"
    }
   ],
   "source": [
    "MLdf.columns.duplicated()"
   ]
  },
  {
   "cell_type": "code",
   "execution_count": 16,
   "metadata": {
    "colab": {
     "base_uri": "https://localhost:8080/"
    },
    "executionInfo": {
     "elapsed": 76,
     "status": "ok",
     "timestamp": 1644334864129,
     "user": {
      "displayName": "Paul Meza-Morales",
      "photoUrl": "https://lh3.googleusercontent.com/a/default-user=s64",
      "userId": "09980096254882972363"
     },
     "user_tz": 480
    },
    "id": "ZiAcKhPg8Xt5",
    "outputId": "dbd352a4-c0e4-4aaf-a1b2-caa975d43c17"
   },
   "outputs": [
    {
     "data": {
      "text/plain": [
       "32"
      ]
     },
     "execution_count": 16,
     "metadata": {},
     "output_type": "execute_result"
    }
   ],
   "source": [
    "len(MLdf.columns)"
   ]
  },
  {
   "cell_type": "code",
   "execution_count": 17,
   "metadata": {
    "colab": {
     "base_uri": "https://localhost:8080/",
     "height": 461
    },
    "executionInfo": {
     "elapsed": 71,
     "status": "ok",
     "timestamp": 1644334864129,
     "user": {
      "displayName": "Paul Meza-Morales",
      "photoUrl": "https://lh3.googleusercontent.com/a/default-user=s64",
      "userId": "09980096254882972363"
     },
     "user_tz": 480
    },
    "id": "IXx4hBwx78h5",
    "outputId": "62e0f427-9ff2-4300-88a1-117b81a774fb"
   },
   "outputs": [
    {
     "data": {
      "text/html": [
       "<div>\n",
       "<style scoped>\n",
       "    .dataframe tbody tr th:only-of-type {\n",
       "        vertical-align: middle;\n",
       "    }\n",
       "\n",
       "    .dataframe tbody tr th {\n",
       "        vertical-align: top;\n",
       "    }\n",
       "\n",
       "    .dataframe thead th {\n",
       "        text-align: right;\n",
       "    }\n",
       "</style>\n",
       "<table border=\"1\" class=\"dataframe\">\n",
       "  <thead>\n",
       "    <tr style=\"text-align: right;\">\n",
       "      <th></th>\n",
       "      <th>material_id</th>\n",
       "      <th>formula</th>\n",
       "      <th>spacegroup</th>\n",
       "      <th>spacegroup_symbol</th>\n",
       "      <th>crystal_system</th>\n",
       "      <th>crossings_+-1eV</th>\n",
       "      <th>crossings_+-2eV</th>\n",
       "      <th>composition</th>\n",
       "      <th>composition_oxid</th>\n",
       "      <th>density</th>\n",
       "      <th>vpa</th>\n",
       "      <th>packing fraction</th>\n",
       "      <th>max packing efficiency</th>\n",
       "      <th>ewald_energy_per_atom</th>\n",
       "      <th>mean absolute deviation in relative bond length</th>\n",
       "      <th>mean neighbor distance variation</th>\n",
       "      <th>mean absolute deviation in relative cell size</th>\n",
       "      <th>structural complexity per atom</th>\n",
       "      <th>structural complexity per cell</th>\n",
       "      <th>frac s valence electrons</th>\n",
       "      <th>frac p valence electrons</th>\n",
       "      <th>frac d valence electrons</th>\n",
       "      <th>frac f valence electrons</th>\n",
       "      <th>max ionic char</th>\n",
       "      <th>avg ionic char</th>\n",
       "      <th>HOMO_energy</th>\n",
       "      <th>LUMO_energy</th>\n",
       "      <th>gap_AO</th>\n",
       "      <th>HOMO_character</th>\n",
       "      <th>HOMO_element</th>\n",
       "      <th>LUMO_character</th>\n",
       "      <th>LUMO_element</th>\n",
       "    </tr>\n",
       "  </thead>\n",
       "  <tbody>\n",
       "    <tr>\n",
       "      <th>0</th>\n",
       "      <td>mp-1111916</td>\n",
       "      <td>K2NaTiF6</td>\n",
       "      <td>225</td>\n",
       "      <td>Fm-3m</td>\n",
       "      <td>cubic</td>\n",
       "      <td>0.0</td>\n",
       "      <td>4.0</td>\n",
       "      <td>(K, Na, Ti, F)</td>\n",
       "      <td>(K+, Na+, Ti3+, F-)</td>\n",
       "      <td>2.833639</td>\n",
       "      <td>15.414612</td>\n",
       "      <td>0.832127</td>\n",
       "      <td>0.412249</td>\n",
       "      <td>-9.397323</td>\n",
       "      <td>8.289707e-02</td>\n",
       "      <td>0.072261</td>\n",
       "      <td>1.469407e-01</td>\n",
       "      <td>1.570951</td>\n",
       "      <td>15.709506</td>\n",
       "      <td>0.346939</td>\n",
       "      <td>0.612245</td>\n",
       "      <td>0.040816</td>\n",
       "      <td>0.000000</td>\n",
       "      <td>0.917619</td>\n",
       "      <td>0.214087</td>\n",
       "      <td>-0.170010</td>\n",
       "      <td>-0.170010</td>\n",
       "      <td>0.000000</td>\n",
       "      <td>0.0</td>\n",
       "      <td>56.0</td>\n",
       "      <td>0.0</td>\n",
       "      <td>56.0</td>\n",
       "    </tr>\n",
       "    <tr>\n",
       "      <th>1</th>\n",
       "      <td>mp-1114332</td>\n",
       "      <td>Na3PdF6</td>\n",
       "      <td>225</td>\n",
       "      <td>Fm-3m</td>\n",
       "      <td>cubic</td>\n",
       "      <td>0.0</td>\n",
       "      <td>4.0</td>\n",
       "      <td>(Na, Pd, F)</td>\n",
       "      <td>(Na0+, Pd0+, F0+)</td>\n",
       "      <td>3.199327</td>\n",
       "      <td>15.019607</td>\n",
       "      <td>0.585386</td>\n",
       "      <td>0.427854</td>\n",
       "      <td>0.000000</td>\n",
       "      <td>8.378608e-02</td>\n",
       "      <td>0.073153</td>\n",
       "      <td>1.491459e-01</td>\n",
       "      <td>1.570951</td>\n",
       "      <td>15.709506</td>\n",
       "      <td>0.272727</td>\n",
       "      <td>0.545455</td>\n",
       "      <td>0.181818</td>\n",
       "      <td>0.000000</td>\n",
       "      <td>0.902278</td>\n",
       "      <td>0.205192</td>\n",
       "      <td>-0.160771</td>\n",
       "      <td>-0.160771</td>\n",
       "      <td>0.000000</td>\n",
       "      <td>0.0</td>\n",
       "      <td>40.0</td>\n",
       "      <td>0.0</td>\n",
       "      <td>40.0</td>\n",
       "    </tr>\n",
       "    <tr>\n",
       "      <th>2</th>\n",
       "      <td>mp-1183466</td>\n",
       "      <td>Ca2PtAu</td>\n",
       "      <td>225</td>\n",
       "      <td>Fm-3m</td>\n",
       "      <td>cubic</td>\n",
       "      <td>8.0</td>\n",
       "      <td>18.0</td>\n",
       "      <td>(Ca, Pt, Au)</td>\n",
       "      <td>(Ca0+, Pt0+, Au0+)</td>\n",
       "      <td>8.595556</td>\n",
       "      <td>22.805898</td>\n",
       "      <td>0.761536</td>\n",
       "      <td>0.680175</td>\n",
       "      <td>0.000000</td>\n",
       "      <td>5.551115e-17</td>\n",
       "      <td>0.051982</td>\n",
       "      <td>1.168354e-16</td>\n",
       "      <td>1.500000</td>\n",
       "      <td>6.000000</td>\n",
       "      <td>0.113208</td>\n",
       "      <td>0.000000</td>\n",
       "      <td>0.358491</td>\n",
       "      <td>0.528302</td>\n",
       "      <td>0.447278</td>\n",
       "      <td>0.098968</td>\n",
       "      <td>-0.141411</td>\n",
       "      <td>-0.141411</td>\n",
       "      <td>0.000000</td>\n",
       "      <td>2.0</td>\n",
       "      <td>10.0</td>\n",
       "      <td>2.0</td>\n",
       "      <td>10.0</td>\n",
       "    </tr>\n",
       "    <tr>\n",
       "      <th>3</th>\n",
       "      <td>mp-1184870</td>\n",
       "      <td>InAgAu2</td>\n",
       "      <td>225</td>\n",
       "      <td>Fm-3m</td>\n",
       "      <td>cubic</td>\n",
       "      <td>2.0</td>\n",
       "      <td>3.0</td>\n",
       "      <td>(In, Ag, Au)</td>\n",
       "      <td>(In+, Ag+, Au-)</td>\n",
       "      <td>13.370065</td>\n",
       "      <td>19.145765</td>\n",
       "      <td>0.696862</td>\n",
       "      <td>0.680175</td>\n",
       "      <td>-4.347833</td>\n",
       "      <td>1.110223e-16</td>\n",
       "      <td>0.051982</td>\n",
       "      <td>1.391710e-16</td>\n",
       "      <td>1.500000</td>\n",
       "      <td>6.000000</td>\n",
       "      <td>0.067568</td>\n",
       "      <td>0.013514</td>\n",
       "      <td>0.540541</td>\n",
       "      <td>0.378378</td>\n",
       "      <td>0.134459</td>\n",
       "      <td>0.028262</td>\n",
       "      <td>-0.162334</td>\n",
       "      <td>-0.157407</td>\n",
       "      <td>0.004927</td>\n",
       "      <td>2.0</td>\n",
       "      <td>3.0</td>\n",
       "      <td>2.0</td>\n",
       "      <td>0.0</td>\n",
       "    </tr>\n",
       "    <tr>\n",
       "      <th>4</th>\n",
       "      <td>mp-1187434</td>\n",
       "      <td>Ti2FeTc</td>\n",
       "      <td>225</td>\n",
       "      <td>Fm-3m</td>\n",
       "      <td>cubic</td>\n",
       "      <td>26.0</td>\n",
       "      <td>112.0</td>\n",
       "      <td>(Ti, Fe, Tc)</td>\n",
       "      <td>(Ti0+, Fe0+, Tc0+)</td>\n",
       "      <td>7.401171</td>\n",
       "      <td>13.998991</td>\n",
       "      <td>0.799845</td>\n",
       "      <td>0.680175</td>\n",
       "      <td>0.000000</td>\n",
       "      <td>1.110223e-16</td>\n",
       "      <td>0.051982</td>\n",
       "      <td>1.268918e-16</td>\n",
       "      <td>1.500000</td>\n",
       "      <td>6.000000</td>\n",
       "      <td>0.347826</td>\n",
       "      <td>0.000000</td>\n",
       "      <td>0.652174</td>\n",
       "      <td>0.000000</td>\n",
       "      <td>0.031881</td>\n",
       "      <td>0.006662</td>\n",
       "      <td>-0.183636</td>\n",
       "      <td>-0.183636</td>\n",
       "      <td>0.000000</td>\n",
       "      <td>2.0</td>\n",
       "      <td>54.0</td>\n",
       "      <td>2.0</td>\n",
       "      <td>54.0</td>\n",
       "    </tr>\n",
       "  </tbody>\n",
       "</table>\n",
       "</div>"
      ],
      "text/plain": [
       "  material_id   formula  spacegroup spacegroup_symbol crystal_system  \\\n",
       "0  mp-1111916  K2NaTiF6         225             Fm-3m          cubic   \n",
       "1  mp-1114332   Na3PdF6         225             Fm-3m          cubic   \n",
       "2  mp-1183466   Ca2PtAu         225             Fm-3m          cubic   \n",
       "3  mp-1184870   InAgAu2         225             Fm-3m          cubic   \n",
       "4  mp-1187434   Ti2FeTc         225             Fm-3m          cubic   \n",
       "\n",
       "   crossings_+-1eV  crossings_+-2eV     composition     composition_oxid  \\\n",
       "0              0.0              4.0  (K, Na, Ti, F)  (K+, Na+, Ti3+, F-)   \n",
       "1              0.0              4.0     (Na, Pd, F)    (Na0+, Pd0+, F0+)   \n",
       "2              8.0             18.0    (Ca, Pt, Au)   (Ca0+, Pt0+, Au0+)   \n",
       "3              2.0              3.0    (In, Ag, Au)      (In+, Ag+, Au-)   \n",
       "4             26.0            112.0    (Ti, Fe, Tc)   (Ti0+, Fe0+, Tc0+)   \n",
       "\n",
       "     density        vpa  packing fraction  max packing efficiency  \\\n",
       "0   2.833639  15.414612          0.832127                0.412249   \n",
       "1   3.199327  15.019607          0.585386                0.427854   \n",
       "2   8.595556  22.805898          0.761536                0.680175   \n",
       "3  13.370065  19.145765          0.696862                0.680175   \n",
       "4   7.401171  13.998991          0.799845                0.680175   \n",
       "\n",
       "   ewald_energy_per_atom  mean absolute deviation in relative bond length  \\\n",
       "0              -9.397323                                     8.289707e-02   \n",
       "1               0.000000                                     8.378608e-02   \n",
       "2               0.000000                                     5.551115e-17   \n",
       "3              -4.347833                                     1.110223e-16   \n",
       "4               0.000000                                     1.110223e-16   \n",
       "\n",
       "   mean neighbor distance variation  \\\n",
       "0                          0.072261   \n",
       "1                          0.073153   \n",
       "2                          0.051982   \n",
       "3                          0.051982   \n",
       "4                          0.051982   \n",
       "\n",
       "   mean absolute deviation in relative cell size  \\\n",
       "0                                   1.469407e-01   \n",
       "1                                   1.491459e-01   \n",
       "2                                   1.168354e-16   \n",
       "3                                   1.391710e-16   \n",
       "4                                   1.268918e-16   \n",
       "\n",
       "   structural complexity per atom  structural complexity per cell  \\\n",
       "0                        1.570951                       15.709506   \n",
       "1                        1.570951                       15.709506   \n",
       "2                        1.500000                        6.000000   \n",
       "3                        1.500000                        6.000000   \n",
       "4                        1.500000                        6.000000   \n",
       "\n",
       "   frac s valence electrons  frac p valence electrons  \\\n",
       "0                  0.346939                  0.612245   \n",
       "1                  0.272727                  0.545455   \n",
       "2                  0.113208                  0.000000   \n",
       "3                  0.067568                  0.013514   \n",
       "4                  0.347826                  0.000000   \n",
       "\n",
       "   frac d valence electrons  frac f valence electrons  max ionic char  \\\n",
       "0                  0.040816                  0.000000        0.917619   \n",
       "1                  0.181818                  0.000000        0.902278   \n",
       "2                  0.358491                  0.528302        0.447278   \n",
       "3                  0.540541                  0.378378        0.134459   \n",
       "4                  0.652174                  0.000000        0.031881   \n",
       "\n",
       "   avg ionic char  HOMO_energy  LUMO_energy    gap_AO  HOMO_character  \\\n",
       "0        0.214087    -0.170010    -0.170010  0.000000             0.0   \n",
       "1        0.205192    -0.160771    -0.160771  0.000000             0.0   \n",
       "2        0.098968    -0.141411    -0.141411  0.000000             2.0   \n",
       "3        0.028262    -0.162334    -0.157407  0.004927             2.0   \n",
       "4        0.006662    -0.183636    -0.183636  0.000000             2.0   \n",
       "\n",
       "   HOMO_element  LUMO_character  LUMO_element  \n",
       "0          56.0             0.0          56.0  \n",
       "1          40.0             0.0          40.0  \n",
       "2          10.0             2.0          10.0  \n",
       "3           3.0             2.0           0.0  \n",
       "4          54.0             2.0          54.0  "
      ]
     },
     "execution_count": 17,
     "metadata": {},
     "output_type": "execute_result"
    }
   ],
   "source": [
    "#preview the df\n",
    "MLdf = MLdf.loc[:,~MLdf.columns.duplicated()]\n",
    "MLdf.head(5)"
   ]
  },
  {
   "cell_type": "code",
   "execution_count": 18,
   "metadata": {
    "colab": {
     "base_uri": "https://localhost:8080/"
    },
    "executionInfo": {
     "elapsed": 70,
     "status": "ok",
     "timestamp": 1644334864130,
     "user": {
      "displayName": "Paul Meza-Morales",
      "photoUrl": "https://lh3.googleusercontent.com/a/default-user=s64",
      "userId": "09980096254882972363"
     },
     "user_tz": 480
    },
    "id": "0Jihyeap78rT",
    "outputId": "79cf1ebf-cbf6-469d-96fa-7e7c9b4dba6f"
   },
   "outputs": [
    {
     "data": {
      "text/plain": [
       "32"
      ]
     },
     "execution_count": 18,
     "metadata": {},
     "output_type": "execute_result"
    }
   ],
   "source": [
    "len(MLdf.columns)"
   ]
  },
  {
   "cell_type": "code",
   "execution_count": 19,
   "metadata": {
    "colab": {
     "base_uri": "https://localhost:8080/"
    },
    "executionInfo": {
     "elapsed": 66,
     "status": "ok",
     "timestamp": 1644334864130,
     "user": {
      "displayName": "Paul Meza-Morales",
      "photoUrl": "https://lh3.googleusercontent.com/a/default-user=s64",
      "userId": "09980096254882972363"
     },
     "user_tz": 480
    },
    "id": "QXgs2roXSJkv",
    "outputId": "fd02a962-5d0e-4571-b997-6a8b9abc54f0"
   },
   "outputs": [
    {
     "data": {
      "text/plain": [
       "['material_id',\n",
       " 'formula',\n",
       " 'spacegroup',\n",
       " 'spacegroup_symbol',\n",
       " 'crystal_system',\n",
       " 'crossings_+-1eV',\n",
       " 'crossings_+-2eV',\n",
       " 'composition',\n",
       " 'composition_oxid',\n",
       " 'density',\n",
       " 'vpa',\n",
       " 'packing fraction',\n",
       " 'max packing efficiency',\n",
       " 'ewald_energy_per_atom',\n",
       " 'mean absolute deviation in relative bond length',\n",
       " 'mean neighbor distance variation',\n",
       " 'mean absolute deviation in relative cell size',\n",
       " 'structural complexity per atom',\n",
       " 'structural complexity per cell',\n",
       " 'frac s valence electrons',\n",
       " 'frac p valence electrons',\n",
       " 'frac d valence electrons',\n",
       " 'frac f valence electrons',\n",
       " 'max ionic char',\n",
       " 'avg ionic char',\n",
       " 'HOMO_energy',\n",
       " 'LUMO_energy',\n",
       " 'gap_AO',\n",
       " 'HOMO_character',\n",
       " 'HOMO_element',\n",
       " 'LUMO_character',\n",
       " 'LUMO_element']"
      ]
     },
     "execution_count": 19,
     "metadata": {},
     "output_type": "execute_result"
    }
   ],
   "source": [
    "list(MLdf.columns)"
   ]
  },
  {
   "cell_type": "code",
   "execution_count": 20,
   "metadata": {
    "colab": {
     "base_uri": "https://localhost:8080/",
     "height": 461
    },
    "executionInfo": {
     "elapsed": 64,
     "status": "ok",
     "timestamp": 1644334864130,
     "user": {
      "displayName": "Paul Meza-Morales",
      "photoUrl": "https://lh3.googleusercontent.com/a/default-user=s64",
      "userId": "09980096254882972363"
     },
     "user_tz": 480
    },
    "id": "EdnL-fTT4--8",
    "outputId": "147c7bee-435c-4d9b-a113-b8881413c41b"
   },
   "outputs": [
    {
     "data": {
      "text/html": [
       "<div>\n",
       "<style scoped>\n",
       "    .dataframe tbody tr th:only-of-type {\n",
       "        vertical-align: middle;\n",
       "    }\n",
       "\n",
       "    .dataframe tbody tr th {\n",
       "        vertical-align: top;\n",
       "    }\n",
       "\n",
       "    .dataframe thead th {\n",
       "        text-align: right;\n",
       "    }\n",
       "</style>\n",
       "<table border=\"1\" class=\"dataframe\">\n",
       "  <thead>\n",
       "    <tr style=\"text-align: right;\">\n",
       "      <th></th>\n",
       "      <th>density</th>\n",
       "      <th>vpa</th>\n",
       "      <th>packing fraction</th>\n",
       "      <th>max packing efficiency</th>\n",
       "      <th>ewald_energy_per_atom</th>\n",
       "      <th>mean absolute deviation in relative bond length</th>\n",
       "      <th>mean neighbor distance variation</th>\n",
       "      <th>mean absolute deviation in relative cell size</th>\n",
       "      <th>structural complexity per atom</th>\n",
       "      <th>structural complexity per cell</th>\n",
       "      <th>frac s valence electrons</th>\n",
       "      <th>frac p valence electrons</th>\n",
       "      <th>frac d valence electrons</th>\n",
       "      <th>frac f valence electrons</th>\n",
       "      <th>max ionic char</th>\n",
       "      <th>avg ionic char</th>\n",
       "      <th>HOMO_energy</th>\n",
       "      <th>LUMO_energy</th>\n",
       "      <th>gap_AO</th>\n",
       "      <th>HOMO_character</th>\n",
       "      <th>HOMO_element</th>\n",
       "      <th>LUMO_character</th>\n",
       "      <th>LUMO_element</th>\n",
       "    </tr>\n",
       "  </thead>\n",
       "  <tbody>\n",
       "    <tr>\n",
       "      <th>0</th>\n",
       "      <td>2.833639</td>\n",
       "      <td>15.414612</td>\n",
       "      <td>0.832127</td>\n",
       "      <td>0.412249</td>\n",
       "      <td>-9.397323</td>\n",
       "      <td>8.289707e-02</td>\n",
       "      <td>0.072261</td>\n",
       "      <td>1.469407e-01</td>\n",
       "      <td>1.570951</td>\n",
       "      <td>15.709506</td>\n",
       "      <td>0.346939</td>\n",
       "      <td>0.612245</td>\n",
       "      <td>0.040816</td>\n",
       "      <td>0.000000</td>\n",
       "      <td>0.917619</td>\n",
       "      <td>0.214087</td>\n",
       "      <td>-0.170010</td>\n",
       "      <td>-0.170010</td>\n",
       "      <td>0.000000</td>\n",
       "      <td>0.0</td>\n",
       "      <td>56.0</td>\n",
       "      <td>0.0</td>\n",
       "      <td>56.0</td>\n",
       "    </tr>\n",
       "    <tr>\n",
       "      <th>1</th>\n",
       "      <td>3.199327</td>\n",
       "      <td>15.019607</td>\n",
       "      <td>0.585386</td>\n",
       "      <td>0.427854</td>\n",
       "      <td>0.000000</td>\n",
       "      <td>8.378608e-02</td>\n",
       "      <td>0.073153</td>\n",
       "      <td>1.491459e-01</td>\n",
       "      <td>1.570951</td>\n",
       "      <td>15.709506</td>\n",
       "      <td>0.272727</td>\n",
       "      <td>0.545455</td>\n",
       "      <td>0.181818</td>\n",
       "      <td>0.000000</td>\n",
       "      <td>0.902278</td>\n",
       "      <td>0.205192</td>\n",
       "      <td>-0.160771</td>\n",
       "      <td>-0.160771</td>\n",
       "      <td>0.000000</td>\n",
       "      <td>0.0</td>\n",
       "      <td>40.0</td>\n",
       "      <td>0.0</td>\n",
       "      <td>40.0</td>\n",
       "    </tr>\n",
       "    <tr>\n",
       "      <th>2</th>\n",
       "      <td>8.595556</td>\n",
       "      <td>22.805898</td>\n",
       "      <td>0.761536</td>\n",
       "      <td>0.680175</td>\n",
       "      <td>0.000000</td>\n",
       "      <td>5.551115e-17</td>\n",
       "      <td>0.051982</td>\n",
       "      <td>1.168354e-16</td>\n",
       "      <td>1.500000</td>\n",
       "      <td>6.000000</td>\n",
       "      <td>0.113208</td>\n",
       "      <td>0.000000</td>\n",
       "      <td>0.358491</td>\n",
       "      <td>0.528302</td>\n",
       "      <td>0.447278</td>\n",
       "      <td>0.098968</td>\n",
       "      <td>-0.141411</td>\n",
       "      <td>-0.141411</td>\n",
       "      <td>0.000000</td>\n",
       "      <td>2.0</td>\n",
       "      <td>10.0</td>\n",
       "      <td>2.0</td>\n",
       "      <td>10.0</td>\n",
       "    </tr>\n",
       "    <tr>\n",
       "      <th>3</th>\n",
       "      <td>13.370065</td>\n",
       "      <td>19.145765</td>\n",
       "      <td>0.696862</td>\n",
       "      <td>0.680175</td>\n",
       "      <td>-4.347833</td>\n",
       "      <td>1.110223e-16</td>\n",
       "      <td>0.051982</td>\n",
       "      <td>1.391710e-16</td>\n",
       "      <td>1.500000</td>\n",
       "      <td>6.000000</td>\n",
       "      <td>0.067568</td>\n",
       "      <td>0.013514</td>\n",
       "      <td>0.540541</td>\n",
       "      <td>0.378378</td>\n",
       "      <td>0.134459</td>\n",
       "      <td>0.028262</td>\n",
       "      <td>-0.162334</td>\n",
       "      <td>-0.157407</td>\n",
       "      <td>0.004927</td>\n",
       "      <td>2.0</td>\n",
       "      <td>3.0</td>\n",
       "      <td>2.0</td>\n",
       "      <td>0.0</td>\n",
       "    </tr>\n",
       "    <tr>\n",
       "      <th>4</th>\n",
       "      <td>7.401171</td>\n",
       "      <td>13.998991</td>\n",
       "      <td>0.799845</td>\n",
       "      <td>0.680175</td>\n",
       "      <td>0.000000</td>\n",
       "      <td>1.110223e-16</td>\n",
       "      <td>0.051982</td>\n",
       "      <td>1.268918e-16</td>\n",
       "      <td>1.500000</td>\n",
       "      <td>6.000000</td>\n",
       "      <td>0.347826</td>\n",
       "      <td>0.000000</td>\n",
       "      <td>0.652174</td>\n",
       "      <td>0.000000</td>\n",
       "      <td>0.031881</td>\n",
       "      <td>0.006662</td>\n",
       "      <td>-0.183636</td>\n",
       "      <td>-0.183636</td>\n",
       "      <td>0.000000</td>\n",
       "      <td>2.0</td>\n",
       "      <td>54.0</td>\n",
       "      <td>2.0</td>\n",
       "      <td>54.0</td>\n",
       "    </tr>\n",
       "  </tbody>\n",
       "</table>\n",
       "</div>"
      ],
      "text/plain": [
       "     density        vpa  packing fraction  max packing efficiency  \\\n",
       "0   2.833639  15.414612          0.832127                0.412249   \n",
       "1   3.199327  15.019607          0.585386                0.427854   \n",
       "2   8.595556  22.805898          0.761536                0.680175   \n",
       "3  13.370065  19.145765          0.696862                0.680175   \n",
       "4   7.401171  13.998991          0.799845                0.680175   \n",
       "\n",
       "   ewald_energy_per_atom  mean absolute deviation in relative bond length  \\\n",
       "0              -9.397323                                     8.289707e-02   \n",
       "1               0.000000                                     8.378608e-02   \n",
       "2               0.000000                                     5.551115e-17   \n",
       "3              -4.347833                                     1.110223e-16   \n",
       "4               0.000000                                     1.110223e-16   \n",
       "\n",
       "   mean neighbor distance variation  \\\n",
       "0                          0.072261   \n",
       "1                          0.073153   \n",
       "2                          0.051982   \n",
       "3                          0.051982   \n",
       "4                          0.051982   \n",
       "\n",
       "   mean absolute deviation in relative cell size  \\\n",
       "0                                   1.469407e-01   \n",
       "1                                   1.491459e-01   \n",
       "2                                   1.168354e-16   \n",
       "3                                   1.391710e-16   \n",
       "4                                   1.268918e-16   \n",
       "\n",
       "   structural complexity per atom  structural complexity per cell  \\\n",
       "0                        1.570951                       15.709506   \n",
       "1                        1.570951                       15.709506   \n",
       "2                        1.500000                        6.000000   \n",
       "3                        1.500000                        6.000000   \n",
       "4                        1.500000                        6.000000   \n",
       "\n",
       "   frac s valence electrons  frac p valence electrons  \\\n",
       "0                  0.346939                  0.612245   \n",
       "1                  0.272727                  0.545455   \n",
       "2                  0.113208                  0.000000   \n",
       "3                  0.067568                  0.013514   \n",
       "4                  0.347826                  0.000000   \n",
       "\n",
       "   frac d valence electrons  frac f valence electrons  max ionic char  \\\n",
       "0                  0.040816                  0.000000        0.917619   \n",
       "1                  0.181818                  0.000000        0.902278   \n",
       "2                  0.358491                  0.528302        0.447278   \n",
       "3                  0.540541                  0.378378        0.134459   \n",
       "4                  0.652174                  0.000000        0.031881   \n",
       "\n",
       "   avg ionic char  HOMO_energy  LUMO_energy    gap_AO  HOMO_character  \\\n",
       "0        0.214087    -0.170010    -0.170010  0.000000             0.0   \n",
       "1        0.205192    -0.160771    -0.160771  0.000000             0.0   \n",
       "2        0.098968    -0.141411    -0.141411  0.000000             2.0   \n",
       "3        0.028262    -0.162334    -0.157407  0.004927             2.0   \n",
       "4        0.006662    -0.183636    -0.183636  0.000000             2.0   \n",
       "\n",
       "   HOMO_element  LUMO_character  LUMO_element  \n",
       "0          56.0             0.0          56.0  \n",
       "1          40.0             0.0          40.0  \n",
       "2          10.0             2.0          10.0  \n",
       "3           3.0             2.0           0.0  \n",
       "4          54.0             2.0          54.0  "
      ]
     },
     "execution_count": 20,
     "metadata": {},
     "output_type": "execute_result"
    }
   ],
   "source": [
    "X = MLdf.drop(['material_id',\n",
    " 'formula',\n",
    " 'spacegroup',\n",
    " 'spacegroup_symbol',\n",
    " 'crystal_system',\n",
    " 'crossings_+-1eV',\n",
    " 'crossings_+-2eV',\n",
    " 'composition',\n",
    " 'composition_oxid',\n",
    " #'density',\n",
    " #'vpa',\n",
    " #'packing fraction',\n",
    " #'max packing efficiency',\n",
    " #'ewald_energy_per_atom',\n",
    " #'mean absolute deviation in relative bond length',\n",
    " #'mean neighbor distance variation',\n",
    " #'mean absolute deviation in relative cell size',\n",
    " #'structural complexity per atom',\n",
    " #'structural complexity per cell',\n",
    " #'frac s valence electrons',\n",
    " #'frac p valence electrons',\n",
    " #'frac d valence electrons',\n",
    " #'frac f valence electrons',\n",
    " #'max ionic char',\n",
    " #'avg ionic char',\n",
    " #'HOMO_energy',\n",
    " #'LUMO_energy',\n",
    " #'gap_AO',\n",
    " #'HOMO_character',\n",
    " #'HOMO_element',\n",
    " #'LUMO_character',\n",
    " #'LUMO_element'\n",
    " ], \n",
    " axis=1)\n",
    "X.head(5)"
   ]
  },
  {
   "cell_type": "code",
   "execution_count": 21,
   "metadata": {
    "colab": {
     "base_uri": "https://localhost:8080/",
     "height": 897
    },
    "executionInfo": {
     "elapsed": 2078,
     "status": "ok",
     "timestamp": 1644334866146,
     "user": {
      "displayName": "Paul Meza-Morales",
      "photoUrl": "https://lh3.googleusercontent.com/a/default-user=s64",
      "userId": "09980096254882972363"
     },
     "user_tz": 480
    },
    "id": "3is4mV69kkak",
    "outputId": "665bc97c-ea35-4265-8920-7c074c720730"
   },
   "outputs": [
    {
     "data": {
      "image/png": "[encoded data removed]",
      "text/plain": [
       "<Figure size 576x1080 with 1 Axes>"
      ]
     },
     "metadata": {},
     "output_type": "display_data"
    }
   ],
   "source": [
    "fig, ax = plt.subplots(figsize =(8, 15))\n",
    "ax = sns.boxplot(data=X, orient='h')\n",
    "plt.tick_params(axis='both', labelsize = 15)\n",
    "plt.xscale('symlog')\n",
    "plt.yticks(rotation=0)\n",
    "plt.xticks(rotation=75);"
   ]
  },
  {
   "cell_type": "code",
   "execution_count": 22,
   "metadata": {
    "colab": {
     "base_uri": "https://localhost:8080/"
    },
    "executionInfo": {
     "elapsed": 43,
     "status": "ok",
     "timestamp": 1644334866147,
     "user": {
      "displayName": "Paul Meza-Morales",
      "photoUrl": "https://lh3.googleusercontent.com/a/default-user=s64",
      "userId": "09980096254882972363"
     },
     "user_tz": 480
    },
    "id": "TM1KbkoJkkiW",
    "outputId": "70775fab-49e2-4cb3-b680-620470d0cab1"
   },
   "outputs": [
    {
     "data": {
      "text/plain": [
       "array([[-0.89945495, -0.23871247,  0.55237128, ...,  0.63333333,\n",
       "        -0.5       ,  0.6       ],\n",
       "       [-0.82087174, -0.29822565, -0.66684961, ...,  0.1       ,\n",
       "        -0.5       ,  0.06666667],\n",
       "       [ 0.33873214,  0.87489077,  0.2035596 , ..., -0.9       ,\n",
       "         0.5       , -0.93333333],\n",
       "       ...,\n",
       "       [ 0.46919371, -0.2305293 , -0.15188555, ...,  0.63333333,\n",
       "        -0.5       ,  0.6       ],\n",
       "       [-0.52968431,  0.23776406, -1.62410556, ..., -1.16666667,\n",
       "         0.        , -1.2       ],\n",
       "       [-0.05706615, -0.79478929,  0.53621441, ..., -0.63333333,\n",
       "         0.5       , -0.66666667]])"
      ]
     },
     "execution_count": 22,
     "metadata": {},
     "output_type": "execute_result"
    }
   ],
   "source": [
    "Xscaled = RobustScaler(with_centering=True, \n",
    "                       with_scaling=True, \n",
    "                       quantile_range=(25.0, 75.0)\n",
    "                       #with_mean=True, \n",
    "                       #with_std=True\n",
    "                       ).fit_transform(X)\n",
    "Xscaled"
   ]
  },
  {
   "cell_type": "code",
   "execution_count": 23,
   "metadata": {
    "colab": {
     "base_uri": "https://localhost:8080/"
    },
    "executionInfo": {
     "elapsed": 49,
     "status": "ok",
     "timestamp": 1644334866162,
     "user": {
      "displayName": "Paul Meza-Morales",
      "photoUrl": "https://lh3.googleusercontent.com/a/default-user=s64",
      "userId": "09980096254882972363"
     },
     "user_tz": 480
    },
    "id": "Dv0T6W4jkklv",
    "outputId": "8cef813f-fb78-4525-d899-f9d2cf13d92e"
   },
   "outputs": [
    {
     "data": {
      "text/plain": [
       "array([ 0.74684266,  1.37317552,  0.83686628,  0.67170108,  1.5411414 ,\n",
       "        0.94882408,  5.99903649,  0.65456571,  4.14709148,  4.48568569,\n",
       "        1.02188196,  0.73962705,  0.57087299,  0.62584434,  0.88823214,\n",
       "        0.92639723,  0.73972759,  0.99351044, 22.60920359,  0.41807448,\n",
       "        0.59473158,  0.4380736 ,  0.60037338])"
      ]
     },
     "execution_count": 23,
     "metadata": {},
     "output_type": "execute_result"
    }
   ],
   "source": [
    "np.std(Xscaled, axis=0)"
   ]
  },
  {
   "cell_type": "code",
   "execution_count": 24,
   "metadata": {
    "colab": {
     "base_uri": "https://localhost:8080/"
    },
    "executionInfo": {
     "elapsed": 47,
     "status": "ok",
     "timestamp": 1644334866163,
     "user": {
      "displayName": "Paul Meza-Morales",
      "photoUrl": "https://lh3.googleusercontent.com/a/default-user=s64",
      "userId": "09980096254882972363"
     },
     "user_tz": 480
    },
    "id": "JKGpeDfzkkoS",
    "outputId": "d2a4d2c1-f605-4124-e301-822790657018"
   },
   "outputs": [
    {
     "data": {
      "text/plain": [
       "array([ 0.06314342,  0.34285647, -0.14691483, -0.54007048, -0.86573558,\n",
       "        0.63750488,  1.23258398,  0.46322281, -0.55162701,  1.11004888,\n",
       "        0.21741281,  0.35889611, -0.02114596,  0.47058779,  0.34989374,\n",
       "        0.38044697, -0.14073698, -0.19659444,  8.85569802, -0.05971741,\n",
       "       -0.06800853, -0.01932818, -0.08192482])"
      ]
     },
     "execution_count": 24,
     "metadata": {},
     "output_type": "execute_result"
    }
   ],
   "source": [
    "np.mean(Xscaled, axis=0)"
   ]
  },
  {
   "cell_type": "code",
   "execution_count": 25,
   "metadata": {
    "colab": {
     "base_uri": "https://localhost:8080/",
     "height": 426
    },
    "executionInfo": {
     "elapsed": 47,
     "status": "ok",
     "timestamp": 1644334866166,
     "user": {
      "displayName": "Paul Meza-Morales",
      "photoUrl": "https://lh3.googleusercontent.com/a/default-user=s64",
      "userId": "09980096254882972363"
     },
     "user_tz": 480
    },
    "id": "u-1usr_RlU3P",
    "outputId": "f0e91bc9-e77d-4756-d44a-6af6ee225bbb"
   },
   "outputs": [
    {
     "data": {
      "text/html": [
       "<div>\n",
       "<style scoped>\n",
       "    .dataframe tbody tr th:only-of-type {\n",
       "        vertical-align: middle;\n",
       "    }\n",
       "\n",
       "    .dataframe tbody tr th {\n",
       "        vertical-align: top;\n",
       "    }\n",
       "\n",
       "    .dataframe thead th {\n",
       "        text-align: right;\n",
       "    }\n",
       "</style>\n",
       "<table border=\"1\" class=\"dataframe\">\n",
       "  <thead>\n",
       "    <tr style=\"text-align: right;\">\n",
       "      <th></th>\n",
       "      <th>density</th>\n",
       "      <th>vpa</th>\n",
       "      <th>packing fraction</th>\n",
       "      <th>max packing efficiency</th>\n",
       "      <th>ewald_energy_per_atom</th>\n",
       "      <th>mean absolute deviation in relative bond length</th>\n",
       "      <th>mean neighbor distance variation</th>\n",
       "      <th>mean absolute deviation in relative cell size</th>\n",
       "      <th>structural complexity per atom</th>\n",
       "      <th>structural complexity per cell</th>\n",
       "      <th>frac s valence electrons</th>\n",
       "      <th>frac p valence electrons</th>\n",
       "      <th>frac d valence electrons</th>\n",
       "      <th>frac f valence electrons</th>\n",
       "      <th>max ionic char</th>\n",
       "      <th>avg ionic char</th>\n",
       "      <th>HOMO_energy</th>\n",
       "      <th>LUMO_energy</th>\n",
       "      <th>gap_AO</th>\n",
       "      <th>HOMO_character</th>\n",
       "      <th>HOMO_element</th>\n",
       "      <th>LUMO_character</th>\n",
       "      <th>LUMO_element</th>\n",
       "    </tr>\n",
       "  </thead>\n",
       "  <tbody>\n",
       "    <tr>\n",
       "      <th>0</th>\n",
       "      <td>-0.899455</td>\n",
       "      <td>-0.238712</td>\n",
       "      <td>0.552371</td>\n",
       "      <td>-1.347132e+00</td>\n",
       "      <td>-0.923733</td>\n",
       "      <td>2.225000e+00</td>\n",
       "      <td>3.550637e+00</td>\n",
       "      <td>1.410631e+00</td>\n",
       "      <td>1.0</td>\n",
       "      <td>4.854753</td>\n",
       "      <td>0.963957</td>\n",
       "      <td>2.198980</td>\n",
       "      <td>-0.976890</td>\n",
       "      <td>0.000000</td>\n",
       "      <td>2.193789</td>\n",
       "      <td>2.591523</td>\n",
       "      <td>0.240451</td>\n",
       "      <td>0.090734</td>\n",
       "      <td>0.000000</td>\n",
       "      <td>-0.5</td>\n",
       "      <td>0.633333</td>\n",
       "      <td>-0.5</td>\n",
       "      <td>0.600000</td>\n",
       "    </tr>\n",
       "    <tr>\n",
       "      <th>1</th>\n",
       "      <td>-0.820872</td>\n",
       "      <td>-0.298226</td>\n",
       "      <td>-0.666850</td>\n",
       "      <td>-1.268673e+00</td>\n",
       "      <td>0.000000</td>\n",
       "      <td>2.248862e+00</td>\n",
       "      <td>3.706651e+00</td>\n",
       "      <td>1.431800e+00</td>\n",
       "      <td>1.0</td>\n",
       "      <td>4.854753</td>\n",
       "      <td>0.453135</td>\n",
       "      <td>1.931818</td>\n",
       "      <td>-0.649493</td>\n",
       "      <td>0.000000</td>\n",
       "      <td>2.148183</td>\n",
       "      <td>2.463587</td>\n",
       "      <td>0.343879</td>\n",
       "      <td>0.245486</td>\n",
       "      <td>0.000000</td>\n",
       "      <td>-0.5</td>\n",
       "      <td>0.100000</td>\n",
       "      <td>-0.5</td>\n",
       "      <td>0.066667</td>\n",
       "    </tr>\n",
       "    <tr>\n",
       "      <th>2</th>\n",
       "      <td>0.338732</td>\n",
       "      <td>0.874891</td>\n",
       "      <td>0.203560</td>\n",
       "      <td>1.674662e-15</td>\n",
       "      <td>0.000000</td>\n",
       "      <td>-2.979896e-15</td>\n",
       "      <td>-2.429742e-15</td>\n",
       "      <td>-7.045575e-16</td>\n",
       "      <td>0.0</td>\n",
       "      <td>0.000000</td>\n",
       "      <td>-0.644893</td>\n",
       "      <td>-0.250000</td>\n",
       "      <td>-0.239271</td>\n",
       "      <td>1.584906</td>\n",
       "      <td>0.795587</td>\n",
       "      <td>0.935797</td>\n",
       "      <td>0.560608</td>\n",
       "      <td>0.569763</td>\n",
       "      <td>0.000000</td>\n",
       "      <td>0.5</td>\n",
       "      <td>-0.900000</td>\n",
       "      <td>0.5</td>\n",
       "      <td>-0.933333</td>\n",
       "    </tr>\n",
       "    <tr>\n",
       "      <th>3</th>\n",
       "      <td>1.364734</td>\n",
       "      <td>0.323439</td>\n",
       "      <td>-0.116015</td>\n",
       "      <td>2.232883e-15</td>\n",
       "      <td>-0.427381</td>\n",
       "      <td>-1.489948e-15</td>\n",
       "      <td>-3.644613e-15</td>\n",
       "      <td>-4.901353e-16</td>\n",
       "      <td>0.0</td>\n",
       "      <td>0.000000</td>\n",
       "      <td>-0.959048</td>\n",
       "      <td>-0.195946</td>\n",
       "      <td>0.183438</td>\n",
       "      <td>1.135135</td>\n",
       "      <td>-0.134344</td>\n",
       "      <td>-0.081150</td>\n",
       "      <td>0.326381</td>\n",
       "      <td>0.301832</td>\n",
       "      <td>2.582285</td>\n",
       "      <td>0.5</td>\n",
       "      <td>-1.133333</td>\n",
       "      <td>0.5</td>\n",
       "      <td>-1.266667</td>\n",
       "    </tr>\n",
       "    <tr>\n",
       "      <th>4</th>\n",
       "      <td>0.082069</td>\n",
       "      <td>-0.451996</td>\n",
       "      <td>0.392859</td>\n",
       "      <td>1.674662e-15</td>\n",
       "      <td>0.000000</td>\n",
       "      <td>-1.489948e-15</td>\n",
       "      <td>-4.859484e-15</td>\n",
       "      <td>-6.080158e-16</td>\n",
       "      <td>0.0</td>\n",
       "      <td>0.000000</td>\n",
       "      <td>0.970065</td>\n",
       "      <td>-0.250000</td>\n",
       "      <td>0.442644</td>\n",
       "      <td>0.000000</td>\n",
       "      <td>-0.439282</td>\n",
       "      <td>-0.391807</td>\n",
       "      <td>0.087912</td>\n",
       "      <td>-0.137500</td>\n",
       "      <td>0.000000</td>\n",
       "      <td>0.5</td>\n",
       "      <td>0.566667</td>\n",
       "      <td>0.5</td>\n",
       "      <td>0.533333</td>\n",
       "    </tr>\n",
       "  </tbody>\n",
       "</table>\n",
       "</div>"
      ],
      "text/plain": [
       "    density       vpa  packing fraction  max packing efficiency  \\\n",
       "0 -0.899455 -0.238712          0.552371           -1.347132e+00   \n",
       "1 -0.820872 -0.298226         -0.666850           -1.268673e+00   \n",
       "2  0.338732  0.874891          0.203560            1.674662e-15   \n",
       "3  1.364734  0.323439         -0.116015            2.232883e-15   \n",
       "4  0.082069 -0.451996          0.392859            1.674662e-15   \n",
       "\n",
       "   ewald_energy_per_atom  mean absolute deviation in relative bond length  \\\n",
       "0              -0.923733                                     2.225000e+00   \n",
       "1               0.000000                                     2.248862e+00   \n",
       "2               0.000000                                    -2.979896e-15   \n",
       "3              -0.427381                                    -1.489948e-15   \n",
       "4               0.000000                                    -1.489948e-15   \n",
       "\n",
       "   mean neighbor distance variation  \\\n",
       "0                      3.550637e+00   \n",
       "1                      3.706651e+00   \n",
       "2                     -2.429742e-15   \n",
       "3                     -3.644613e-15   \n",
       "4                     -4.859484e-15   \n",
       "\n",
       "   mean absolute deviation in relative cell size  \\\n",
       "0                                   1.410631e+00   \n",
       "1                                   1.431800e+00   \n",
       "2                                  -7.045575e-16   \n",
       "3                                  -4.901353e-16   \n",
       "4                                  -6.080158e-16   \n",
       "\n",
       "   structural complexity per atom  structural complexity per cell  \\\n",
       "0                             1.0                        4.854753   \n",
       "1                             1.0                        4.854753   \n",
       "2                             0.0                        0.000000   \n",
       "3                             0.0                        0.000000   \n",
       "4                             0.0                        0.000000   \n",
       "\n",
       "   frac s valence electrons  frac p valence electrons  \\\n",
       "0                  0.963957                  2.198980   \n",
       "1                  0.453135                  1.931818   \n",
       "2                 -0.644893                 -0.250000   \n",
       "3                 -0.959048                 -0.195946   \n",
       "4                  0.970065                 -0.250000   \n",
       "\n",
       "   frac d valence electrons  frac f valence electrons  max ionic char  \\\n",
       "0                 -0.976890                  0.000000        2.193789   \n",
       "1                 -0.649493                  0.000000        2.148183   \n",
       "2                 -0.239271                  1.584906        0.795587   \n",
       "3                  0.183438                  1.135135       -0.134344   \n",
       "4                  0.442644                  0.000000       -0.439282   \n",
       "\n",
       "   avg ionic char  HOMO_energy  LUMO_energy    gap_AO  HOMO_character  \\\n",
       "0        2.591523     0.240451     0.090734  0.000000            -0.5   \n",
       "1        2.463587     0.343879     0.245486  0.000000            -0.5   \n",
       "2        0.935797     0.560608     0.569763  0.000000             0.5   \n",
       "3       -0.081150     0.326381     0.301832  2.582285             0.5   \n",
       "4       -0.391807     0.087912    -0.137500  0.000000             0.5   \n",
       "\n",
       "   HOMO_element  LUMO_character  LUMO_element  \n",
       "0      0.633333            -0.5      0.600000  \n",
       "1      0.100000            -0.5      0.066667  \n",
       "2     -0.900000             0.5     -0.933333  \n",
       "3     -1.133333             0.5     -1.266667  \n",
       "4      0.566667             0.5      0.533333  "
      ]
     },
     "execution_count": 25,
     "metadata": {},
     "output_type": "execute_result"
    }
   ],
   "source": [
    "Xscaled_df = pd.DataFrame(data=Xscaled, columns=list(X))\n",
    "Xscaled_df.head(5)"
   ]
  },
  {
   "cell_type": "code",
   "execution_count": 26,
   "metadata": {
    "colab": {
     "base_uri": "https://localhost:8080/",
     "height": 1000
    },
    "executionInfo": {
     "elapsed": 2010,
     "status": "ok",
     "timestamp": 1644334868131,
     "user": {
      "displayName": "Paul Meza-Morales",
      "photoUrl": "https://lh3.googleusercontent.com/a/default-user=s64",
      "userId": "09980096254882972363"
     },
     "user_tz": 480
    },
    "id": "M2KQ85-TlU6V",
    "outputId": "e743bd21-fb1a-4be0-bcea-15431ece8164"
   },
   "outputs": [
    {
     "data": {
      "image/png": "[encoded data removed]",
      "text/plain": [
       "<Figure size 576x1224 with 1 Axes>"
      ]
     },
     "metadata": {},
     "output_type": "display_data"
    }
   ],
   "source": [
    "fig, ax = plt.subplots(figsize =(8, 17))\n",
    "ax = sns.boxplot(data=Xscaled_df, orient='h')\n",
    "plt.tick_params(axis='both', labelsize = 15)\n",
    "plt.xscale('symlog')\n",
    "plt.yticks(rotation=0)\n",
    "plt.xticks(rotation=75);"
   ]
  },
  {
   "cell_type": "code",
   "execution_count": 27,
   "metadata": {
    "colab": {
     "base_uri": "https://localhost:8080/",
     "height": 845
    },
    "executionInfo": {
     "elapsed": 1632,
     "status": "ok",
     "timestamp": 1644334869758,
     "user": {
      "displayName": "Paul Meza-Morales",
      "photoUrl": "https://lh3.googleusercontent.com/a/default-user=s64",
      "userId": "09980096254882972363"
     },
     "user_tz": 480
    },
    "id": "SYpwyNnDlU8h",
    "outputId": "2aa6bd0f-c708-4ab8-d1ba-67a2416e482c"
   },
   "outputs": [
    {
     "data": {
      "image/png": "[encoded data removed]",
      "text/plain": [
       "<Figure size 720x720 with 2 Axes>"
      ]
     },
     "metadata": {},
     "output_type": "display_data"
    }
   ],
   "source": [
    "matrix = np.triu(Xscaled_df.corr(method ='pearson').abs())\n",
    "\n",
    "f, ax = plt.subplots(figsize=(10, 10))\n",
    "ax = sns.heatmap(Xscaled_df.corr(method ='pearson').abs(), \n",
    "                 mask=matrix, \n",
    "                 cmap='OrRd', \n",
    "                 linecolor='white', \n",
    "                 linewidths=0.1, \n",
    "                 #annot=True, \n",
    "                 #annot_kws={'fontsize': 10, \n",
    "                       #'weight': 'bold'\n",
    "                 #     }, \n",
    "                 #fmt='.2f', \n",
    "                 vmin=0, \n",
    "                 vmax=1, \n",
    "                 cbar_kws={'label': '|correlation coefficient|',  \n",
    "                           'extend': 'both', \n",
    "                           'shrink':0.7}\n",
    "                )\n",
    "\n",
    "cbar = ax.collections[0].colorbar\n",
    "cbar.ax.tick_params(labelsize=15)\n",
    "ax.figure.axes[-1].yaxis.label.set_size(20)\n",
    "\n",
    "ax.yaxis.set_tick_params(labelsize=10)\n",
    "ax.xaxis.set_tick_params(labelsize=10)\n",
    "\n",
    "ax.set_ylabel('Features', fontsize = 20)\n",
    "ax.set_xlabel('Features', fontsize = 20);\n",
    "#f.savefig('Feature_Correlation.png', bbox_inches='tight', dpi=400);"
   ]
  },
  {
   "cell_type": "code",
   "execution_count": 28,
   "metadata": {
    "colab": {
     "base_uri": "https://localhost:8080/"
    },
    "executionInfo": {
     "elapsed": 19,
     "status": "ok",
     "timestamp": 1644334869759,
     "user": {
      "displayName": "Paul Meza-Morales",
      "photoUrl": "https://lh3.googleusercontent.com/a/default-user=s64",
      "userId": "09980096254882972363"
     },
     "user_tz": 480
    },
    "id": "ISKjwFoi4--8",
    "outputId": "de17ab97-21ec-43b4-8604-6e581b9a9a41"
   },
   "outputs": [
    {
     "data": {
      "text/plain": [
       "0     0.0\n",
       "1     0.0\n",
       "2     8.0\n",
       "3     2.0\n",
       "4    26.0\n",
       "Name: crossings_+-1eV, dtype: float64"
      ]
     },
     "execution_count": 28,
     "metadata": {},
     "output_type": "execute_result"
    }
   ],
   "source": [
    "y = MLdf['crossings_+-1eV']\n",
    "y.head(5)"
   ]
  },
  {
   "cell_type": "code",
   "execution_count": 29,
   "metadata": {
    "executionInfo": {
     "elapsed": 13,
     "status": "ok",
     "timestamp": 1644334869759,
     "user": {
      "displayName": "Paul Meza-Morales",
      "photoUrl": "https://lh3.googleusercontent.com/a/default-user=s64",
      "userId": "09980096254882972363"
     },
     "user_tz": 480
    },
    "id": "7Hc4-Z934--9"
   },
   "outputs": [],
   "source": [
    "X_train, X_test, y_train, y_test = train_test_split(Xscaled_df, y, \n",
    "                                                    test_size=0.3, \n",
    "                                                    shuffle=True, \n",
    "                                                    random_state=1\n",
    "                                                   )"
   ]
  },
  {
   "cell_type": "code",
   "execution_count": 30,
   "metadata": {
    "colab": {
     "base_uri": "https://localhost:8080/",
     "height": 206
    },
    "executionInfo": {
     "elapsed": 251,
     "status": "ok",
     "timestamp": 1644334869999,
     "user": {
      "displayName": "Paul Meza-Morales",
      "photoUrl": "https://lh3.googleusercontent.com/a/default-user=s64",
      "userId": "09980096254882972363"
     },
     "user_tz": 480
    },
    "id": "gn55d3mQ4---",
    "outputId": "b68d3cb4-8e72-46ab-9bae-3480298c16fd"
   },
   "outputs": [
    {
     "data": {
      "text/html": [
       "<div>\n",
       "<style scoped>\n",
       "    .dataframe tbody tr th:only-of-type {\n",
       "        vertical-align: middle;\n",
       "    }\n",
       "\n",
       "    .dataframe tbody tr th {\n",
       "        vertical-align: top;\n",
       "    }\n",
       "\n",
       "    .dataframe thead th {\n",
       "        text-align: right;\n",
       "    }\n",
       "</style>\n",
       "<table border=\"1\" class=\"dataframe\">\n",
       "  <thead>\n",
       "    <tr style=\"text-align: right;\">\n",
       "      <th></th>\n",
       "      <th>crossings_+-1eV</th>\n",
       "    </tr>\n",
       "  </thead>\n",
       "  <tbody>\n",
       "    <tr>\n",
       "      <th>1089</th>\n",
       "      <td>5.0</td>\n",
       "    </tr>\n",
       "    <tr>\n",
       "      <th>3783</th>\n",
       "      <td>46.0</td>\n",
       "    </tr>\n",
       "    <tr>\n",
       "      <th>2716</th>\n",
       "      <td>4.0</td>\n",
       "    </tr>\n",
       "    <tr>\n",
       "      <th>1660</th>\n",
       "      <td>21.0</td>\n",
       "    </tr>\n",
       "    <tr>\n",
       "      <th>611</th>\n",
       "      <td>20.0</td>\n",
       "    </tr>\n",
       "  </tbody>\n",
       "</table>\n",
       "</div>"
      ],
      "text/plain": [
       "      crossings_+-1eV\n",
       "1089              5.0\n",
       "3783             46.0\n",
       "2716              4.0\n",
       "1660             21.0\n",
       "611              20.0"
      ]
     },
     "execution_count": 30,
     "metadata": {},
     "output_type": "execute_result"
    }
   ],
   "source": [
    "df_y_train = pd.DataFrame(y_train)\n",
    "df_y_train.head(5)"
   ]
  },
  {
   "cell_type": "code",
   "execution_count": 31,
   "metadata": {
    "colab": {
     "base_uri": "https://localhost:8080/",
     "height": 206
    },
    "executionInfo": {
     "elapsed": 6,
     "status": "ok",
     "timestamp": 1644334869999,
     "user": {
      "displayName": "Paul Meza-Morales",
      "photoUrl": "https://lh3.googleusercontent.com/a/default-user=s64",
      "userId": "09980096254882972363"
     },
     "user_tz": 480
    },
    "id": "jFGEt2GZ4---",
    "outputId": "9964f454-3d3c-4520-b494-97ed2a4576ea"
   },
   "outputs": [
    {
     "data": {
      "text/html": [
       "<div>\n",
       "<style scoped>\n",
       "    .dataframe tbody tr th:only-of-type {\n",
       "        vertical-align: middle;\n",
       "    }\n",
       "\n",
       "    .dataframe tbody tr th {\n",
       "        vertical-align: top;\n",
       "    }\n",
       "\n",
       "    .dataframe thead th {\n",
       "        text-align: right;\n",
       "    }\n",
       "</style>\n",
       "<table border=\"1\" class=\"dataframe\">\n",
       "  <thead>\n",
       "    <tr style=\"text-align: right;\">\n",
       "      <th></th>\n",
       "      <th>crossings_+-1eV</th>\n",
       "    </tr>\n",
       "  </thead>\n",
       "  <tbody>\n",
       "    <tr>\n",
       "      <th>1457</th>\n",
       "      <td>39.0</td>\n",
       "    </tr>\n",
       "    <tr>\n",
       "      <th>3095</th>\n",
       "      <td>1.0</td>\n",
       "    </tr>\n",
       "    <tr>\n",
       "      <th>323</th>\n",
       "      <td>11.0</td>\n",
       "    </tr>\n",
       "    <tr>\n",
       "      <th>2802</th>\n",
       "      <td>13.0</td>\n",
       "    </tr>\n",
       "    <tr>\n",
       "      <th>102</th>\n",
       "      <td>13.0</td>\n",
       "    </tr>\n",
       "  </tbody>\n",
       "</table>\n",
       "</div>"
      ],
      "text/plain": [
       "      crossings_+-1eV\n",
       "1457             39.0\n",
       "3095              1.0\n",
       "323              11.0\n",
       "2802             13.0\n",
       "102              13.0"
      ]
     },
     "execution_count": 31,
     "metadata": {},
     "output_type": "execute_result"
    }
   ],
   "source": [
    "df_y_test = pd.DataFrame(y_test)\n",
    "df_y_test.head(5)"
   ]
  },
  {
   "cell_type": "code",
   "execution_count": 32,
   "metadata": {
    "colab": {
     "base_uri": "https://localhost:8080/",
     "height": 432
    },
    "executionInfo": {
     "elapsed": 954,
     "status": "ok",
     "timestamp": 1644334870949,
     "user": {
      "displayName": "Paul Meza-Morales",
      "photoUrl": "https://lh3.googleusercontent.com/a/default-user=s64",
      "userId": "09980096254882972363"
     },
     "user_tz": 480
    },
    "id": "O1b3H23s4---",
    "outputId": "650e24b8-f3e7-4859-ea13-b9d658b11dcd"
   },
   "outputs": [
    {
     "data": {
      "image/png": "[encoded data removed]",
      "text/plain": [
       "<Figure size 576x432 with 1 Axes>"
      ]
     },
     "metadata": {},
     "output_type": "display_data"
    }
   ],
   "source": [
    "fig, ax = plt.subplots(figsize =(8, 6))\n",
    "plt.hist(MLdf['crossings_+-1eV'], \n",
    "         color = 'grey', \n",
    "         edgecolor = 'black',\n",
    "         bins = 30, \n",
    "         alpha=0.5, \n",
    "         label='Whole data')\n",
    "\n",
    "plt.hist(y_train, \n",
    "         color = 'blue', \n",
    "         edgecolor = 'black',\n",
    "         bins = 30, \n",
    "         alpha=0.5,\n",
    "         label='training set')\n",
    "\n",
    "plt.hist(y_test, \n",
    "         color = 'red', \n",
    "         edgecolor = 'black',\n",
    "         bins = 30, \n",
    "         alpha=0.5, \n",
    "         label='test set')\n",
    "\n",
    "plt.xlabel('Total Number of crossing $\\pm$ 1eV\\n (Sclaed data)', fontsize = 20)\n",
    "plt.ylabel('Count', fontsize = 20)\n",
    "plt.legend(loc='upper right', fontsize = 16, ncol = 1).get_frame().set_edgecolor('w')\n",
    "plt.grid(True)\n",
    "\n",
    "plt.tick_params(axis='both', labelsize = 20)"
   ]
  },
  {
   "cell_type": "markdown",
   "metadata": {
    "id": "aH9dsdam4---"
   },
   "source": [
    "https://www.kaggle.com/tilii7/hyperparameter-grid-search-with-xgboost"
   ]
  },
  {
   "cell_type": "code",
   "execution_count": null,
   "metadata": {
    "colab": {
     "base_uri": "https://localhost:8080/"
    },
    "executionInfo": {
     "elapsed": 391714,
     "status": "ok",
     "timestamp": 1644335262649,
     "user": {
      "displayName": "Paul Meza-Morales",
      "photoUrl": "https://lh3.googleusercontent.com/a/default-user=s64",
      "userId": "09980096254882972363"
     },
     "user_tz": 480
    },
    "id": "9V8J7SBO4--_",
    "outputId": "38cbf122-090b-4b23-f19b-c079bcd08ea7"
   },
   "outputs": [],
   "source": [
    "estimator = xgb.XGBRegressor()\n",
    "\n",
    "print(estimator.get_params().keys())\n",
    "\n",
    "param_grid   = {\"booster\":           ['gbtree'], \n",
    "                'objective':         ['reg:squarederror'],\n",
    "                \"learning_rate\":     (0.01, 3.0, \"uniform\"),  \n",
    "                \"max_depth\":         (1, 50, \"uniform\"), \n",
    "                \"max_delta_step\":    (0, 10.0, \"uniform\"), \n",
    "                \"subsample\":         (0.01, 1.0, \"uniform\"), \n",
    "                \"colsample_bytree\":  (0.01, 1.0, \"uniform\"), \n",
    "                \"colsample_bylevel\": (0.01, 1.0, \"uniform\"), \n",
    "                \"reg_lambda\":        (1, 1000, \"uniform\"), \n",
    "                \"reg_alpha\":         (1e-9, 3.0, \"uniform\"), \n",
    "                \"gamma\":             (1e-9, 3.0, \"uniform\"), \n",
    "                \"min_child_weight\":  (0, 10, \"uniform\"),  \n",
    "                \"scale_pos_weight\":  (1, 500, \"uniform\")\n",
    "                }\n",
    "\n",
    "ss = ShuffleSplit(n_splits=7, test_size=0.30, random_state=0)\n",
    "\n",
    "gbm = BayesSearchCV(estimator=estimator, \n",
    "                    search_spaces=param_grid, \n",
    "                    cv=ss, \n",
    "                    n_iter=150, \n",
    "                    n_points=10, \n",
    "                    optimizer_kwargs={'base_estimator': 'GBRT', \n",
    "                                      'acq_optimizer': 'sampling',\n",
    "                                      'initial_point_generator':'grid'\n",
    "                                      }, \n",
    "                    #iid=False, \n",
    "                    verbose=0, \n",
    "                    n_jobs=-1, \n",
    "                    refit=True)\n",
    "\n",
    "gbm.fit(X_train, y_train)\n",
    "best = gbm.best_estimator_"
   ]
  },
  {
   "cell_type": "code",
   "execution_count": null,
   "metadata": {
    "executionInfo": {
     "elapsed": 341,
     "status": "ok",
     "timestamp": 1644335262981,
     "user": {
      "displayName": "Paul Meza-Morales",
      "photoUrl": "https://lh3.googleusercontent.com/a/default-user=s64",
      "userId": "09980096254882972363"
     },
     "user_tz": 480
    },
    "id": "pzdQlRDue3CD"
   },
   "outputs": [],
   "source": [
    "# save the model to disk\n",
    "pkl.dump(best, open('./ML_model.sav', 'wb'))"
   ]
  },
  {
   "cell_type": "code",
   "execution_count": null,
   "metadata": {
    "colab": {
     "base_uri": "https://localhost:8080/",
     "height": 0
    },
    "executionInfo": {
     "elapsed": 7,
     "status": "ok",
     "timestamp": 1644335262982,
     "user": {
      "displayName": "Paul Meza-Morales",
      "photoUrl": "https://lh3.googleusercontent.com/a/default-user=s64",
      "userId": "09980096254882972363"
     },
     "user_tz": 480
    },
    "id": "4Gg6mGKG4--_",
    "outputId": "8f1579db-4e2b-4aec-c145-bbb9c01dd9b4"
   },
   "outputs": [],
   "source": [
    "estimator.importance_type"
   ]
  },
  {
   "cell_type": "code",
   "execution_count": null,
   "metadata": {
    "colab": {
     "base_uri": "https://localhost:8080/",
     "height": 0
    },
    "executionInfo": {
     "elapsed": 684,
     "status": "ok",
     "timestamp": 1644335263661,
     "user": {
      "displayName": "Paul Meza-Morales",
      "photoUrl": "https://lh3.googleusercontent.com/a/default-user=s64",
      "userId": "09980096254882972363"
     },
     "user_tz": 480
    },
    "id": "O4yO-KVl4--_",
    "outputId": "0b62323e-d7fd-45fb-db5c-bc40ac5e6eac"
   },
   "outputs": [],
   "source": [
    "df0 = pd.DataFrame(gbm.cv_results_)\n",
    "df0.head(5)"
   ]
  },
  {
   "cell_type": "code",
   "execution_count": null,
   "metadata": {
    "colab": {
     "base_uri": "https://localhost:8080/"
    },
    "executionInfo": {
     "elapsed": 141,
     "status": "ok",
     "timestamp": 1644335263677,
     "user": {
      "displayName": "Paul Meza-Morales",
      "photoUrl": "https://lh3.googleusercontent.com/a/default-user=s64",
      "userId": "09980096254882972363"
     },
     "user_tz": 480
    },
    "id": "PfsZZYSG4--_",
    "outputId": "9dc3edee-7e4d-4336-dfcf-5bf0d178cb03"
   },
   "outputs": [],
   "source": [
    "gbm.best_params_"
   ]
  },
  {
   "cell_type": "code",
   "execution_count": null,
   "metadata": {
    "colab": {
     "base_uri": "https://localhost:8080/"
    },
    "executionInfo": {
     "elapsed": 130,
     "status": "ok",
     "timestamp": 1644335263683,
     "user": {
      "displayName": "Paul Meza-Morales",
      "photoUrl": "https://lh3.googleusercontent.com/a/default-user=s64",
      "userId": "09980096254882972363"
     },
     "user_tz": 480
    },
    "id": "nmkPxCNh4-_A",
    "outputId": "1e3d717a-e570-4986-d3d1-e29c758dcf5d"
   },
   "outputs": [],
   "source": [
    "gbm.best_index_"
   ]
  },
  {
   "cell_type": "code",
   "execution_count": null,
   "metadata": {
    "colab": {
     "base_uri": "https://localhost:8080/"
    },
    "executionInfo": {
     "elapsed": 88,
     "status": "ok",
     "timestamp": 1644335263684,
     "user": {
      "displayName": "Paul Meza-Morales",
      "photoUrl": "https://lh3.googleusercontent.com/a/default-user=s64",
      "userId": "09980096254882972363"
     },
     "user_tz": 480
    },
    "id": "Um-FZvER4-_A",
    "outputId": "4f52ad11-fa01-4a93-f7d4-804194340ae6"
   },
   "outputs": [],
   "source": [
    "gbm.n_splits_"
   ]
  },
  {
   "cell_type": "code",
   "execution_count": null,
   "metadata": {
    "colab": {
     "base_uri": "https://localhost:8080/"
    },
    "executionInfo": {
     "elapsed": 107,
     "status": "ok",
     "timestamp": 1644335263705,
     "user": {
      "displayName": "Paul Meza-Morales",
      "photoUrl": "https://lh3.googleusercontent.com/a/default-user=s64",
      "userId": "09980096254882972363"
     },
     "user_tz": 480
    },
    "id": "hM3seT_84-_A",
    "outputId": "f1095a57-c15f-4b62-9208-c19a904d910d"
   },
   "outputs": [],
   "source": [
    "gbm.multimetric_"
   ]
  },
  {
   "cell_type": "code",
   "execution_count": null,
   "metadata": {
    "colab": {
     "base_uri": "https://localhost:8080/"
    },
    "executionInfo": {
     "elapsed": 101,
     "status": "ok",
     "timestamp": 1644335263706,
     "user": {
      "displayName": "Paul Meza-Morales",
      "photoUrl": "https://lh3.googleusercontent.com/a/default-user=s64",
      "userId": "09980096254882972363"
     },
     "user_tz": 480
    },
    "id": "0x5GyIT7-n9L",
    "outputId": "82d90597-8f2a-4c1d-c10f-c62aeb31758e"
   },
   "outputs": [],
   "source": [
    "y_pred_train = best.predict(X_train)\n",
    "y_pred_train"
   ]
  },
  {
   "cell_type": "code",
   "execution_count": null,
   "metadata": {
    "executionInfo": {
     "elapsed": 62,
     "status": "ok",
     "timestamp": 1644335263706,
     "user": {
      "displayName": "Paul Meza-Morales",
      "photoUrl": "https://lh3.googleusercontent.com/a/default-user=s64",
      "userId": "09980096254882972363"
     },
     "user_tz": 480
    },
    "id": "3w733R0A-tns"
   },
   "outputs": [],
   "source": [
    "y_pred_test = best.predict(X_test)"
   ]
  },
  {
   "cell_type": "code",
   "execution_count": null,
   "metadata": {
    "colab": {
     "base_uri": "https://localhost:8080/",
     "height": 0
    },
    "executionInfo": {
     "elapsed": 737,
     "status": "ok",
     "timestamp": 1644335264386,
     "user": {
      "displayName": "Paul Meza-Morales",
      "photoUrl": "https://lh3.googleusercontent.com/a/default-user=s64",
      "userId": "09980096254882972363"
     },
     "user_tz": 480
    },
    "id": "XiO06kO54-_A",
    "outputId": "47382a35-7093-46f1-e721-8d19681e1463"
   },
   "outputs": [],
   "source": [
    "x_ref_line = [-10, 100]\n",
    "y_ref_line = [-10, 100]\n",
    "\n",
    "x_ref_line_2 = np.linspace(-10, 10, 100)\n",
    "y_ref_line_2 = np.linspace(-10, 10, 100)\n",
    "\n",
    "# Print Result and Output figure\n",
    "x1 = np.array(y_train)\n",
    "y1 = np.array(y_pred_train)\n",
    "x2 = np.array(y_test)\n",
    "y2 = np.array(y_pred_test)\n",
    "\n",
    "print('The rmse train:', mean_squared_error(y_train, y_pred_train, squared=False))\n",
    "print('The rmse test:', mean_squared_error(y_test, y_pred_test, squared=False))\n",
    "print('The MAE train:', mean_absolute_error(y_train, y_pred_train))\n",
    "print('The MAE test:', mean_absolute_error(y_test, y_pred_test))\n",
    "print('The R^2 train:', r2_score(y_train, y_pred_train))\n",
    "print('The R^2 test:', r2_score(y_test, y_pred_test))\n",
    "\n",
    "fig = plt.figure(figsize=(8, 6))\n",
    "#plt.fill_between(x_ref_line_2, y_ref_line_2 - 1.0, y_ref_line_2 + 1.0, \n",
    "#                 color = '#546223', alpha=0.3, label='+/- 1eV')\n",
    "\n",
    "z = np.polyfit(x1, y1, 1)\n",
    "p = np.poly1d(z)\n",
    "plt.plot(x_ref_line, y_ref_line, 'k--', linewidth=3.5, label='Perfect Fit (y = x)')\n",
    "#plt.plot(x1,p(x1),'--', color = 'dodgerblue', linewidth=3.5, label='Best Fit')\n",
    "\n",
    "plt.scatter(x1, y1, s=120, c='blue', alpha=0.5, edgecolors='k', linewidths=1, label='Training set')\n",
    "plt.scatter(x2, y2, s=120, c='red', alpha=0.5, edgecolors='k', linewidths=1, label='Test set')\n",
    "\n",
    "plt.rc('xtick', labelsize=20)\n",
    "plt.rc('ytick', labelsize=20)\n",
    "plt.xlabel('Total Number of crossing $\\pm$ 1eV', fontsize = 20)\n",
    "plt.ylabel('Total Number of crossing $\\pm$ 1eV \\n (ML Predicted)', fontsize = 20)\n",
    "plt.tick_params(axis='both', labelsize = 15)\n",
    "plt.legend(loc='upper left', fontsize = 16, ncol = 1).get_frame().set_edgecolor('w')\n",
    "plt.grid(True)\n",
    "\n",
    "plt.xlim(-5, 80)\n",
    "plt.ylim(-5, 80);\n",
    "text_kwargs = dict(fontsize=20, \n",
    "                   #ha='center', \n",
    "                   #va='center', \n",
    "                   color='k'\n",
    "                  )\n",
    "\n",
    "plt.text(56, -2, \n",
    "         (r'$MAE={:.2f}$' + '\\n' + r'$RMSE={:.2f}$' + '\\n' + r'$R^2={:.2f}$').format(mean_absolute_error(y_train, y_pred_train), \n",
    "                                                                                               mean_squared_error(y_train, y_pred_train, squared=False), \n",
    "                                                                                               r2_score(y_train, y_pred_train)\n",
    "                                                                                              ), **text_kwargs\n",
    "        );"
   ]
  },
  {
   "cell_type": "code",
   "execution_count": null,
   "metadata": {
    "executionInfo": {
     "elapsed": 7,
     "status": "ok",
     "timestamp": 1644335264387,
     "user": {
      "displayName": "Paul Meza-Morales",
      "photoUrl": "https://lh3.googleusercontent.com/a/default-user=s64",
      "userId": "09980096254882972363"
     },
     "user_tz": 480
    },
    "id": "vVPF2GVk4-_A"
   },
   "outputs": [],
   "source": [
    "residuals_training = [y_train_i - y_pred_train_i for y_train_i, y_pred_train_i in zip(y_train, y_pred_train)]\n",
    "#error_training"
   ]
  },
  {
   "cell_type": "code",
   "execution_count": null,
   "metadata": {
    "executionInfo": {
     "elapsed": 8,
     "status": "ok",
     "timestamp": 1644335264388,
     "user": {
      "displayName": "Paul Meza-Morales",
      "photoUrl": "https://lh3.googleusercontent.com/a/default-user=s64",
      "userId": "09980096254882972363"
     },
     "user_tz": 480
    },
    "id": "PyqMHL4b4-_A"
   },
   "outputs": [],
   "source": [
    "residuals_testing = [y_test_i - y_pred_test_i for y_test_i, y_pred_test_i in zip(y_test, y_pred_test)]\n",
    "#error_testing"
   ]
  },
  {
   "cell_type": "code",
   "execution_count": null,
   "metadata": {
    "colab": {
     "base_uri": "https://localhost:8080/",
     "height": 0
    },
    "executionInfo": {
     "elapsed": 350,
     "status": "ok",
     "timestamp": 1644335264731,
     "user": {
      "displayName": "Paul Meza-Morales",
      "photoUrl": "https://lh3.googleusercontent.com/a/default-user=s64",
      "userId": "09980096254882972363"
     },
     "user_tz": 480
    },
    "id": "7Fj9bwH-4-_A",
    "outputId": "f5dc3059-6db5-4d1c-f46c-5abce2ad1bb3"
   },
   "outputs": [],
   "source": [
    "fig, ax = plt.subplots(figsize =(8, 6))\n",
    "\n",
    "plt.hist(residuals_training, \n",
    "         color = 'blue', \n",
    "         edgecolor = 'black',\n",
    "         bins = 30, \n",
    "         alpha=0.5,\n",
    "         label='Training')\n",
    "\n",
    "plt.hist(residuals_testing, \n",
    "         color = 'red', \n",
    "         edgecolor = 'black',\n",
    "         bins = 30, \n",
    "         alpha=0.5, \n",
    "         label='testing')\n",
    "\n",
    "ax.axvspan(-mean_absolute_error(y_train, y_pred_train), \n",
    "            mean_absolute_error(y_train, y_pred_train), \n",
    "            alpha=0.5, \n",
    "            color='grey', \n",
    "            label='$\\pm$MAE$_{training}$')\n",
    "\n",
    "plt.legend(loc='upper right', fontsize = 16, ncol = 1).get_frame().set_edgecolor('w')\n",
    "plt.xlabel('Residuals', fontsize = 20)\n",
    "plt.ylabel('Count', fontsize = 20)\n",
    "\n",
    "text_kwargs = dict(fontsize=15, \n",
    "                   #ha='center', \n",
    "                   #va='center', \n",
    "                   #color='gray'\n",
    "                  )\n",
    "\n",
    "ax.text(30, 410, \n",
    "        (r'$\\sigma_{1}={0:.2f}$' + '\\n' + r'$MAE_{1}={2:.2f}$' ).format(np.std(residuals_training), \n",
    "                                         '{training}', \n",
    "                                         mean_absolute_error(y_train, y_pred_train)\n",
    "                                        ), \n",
    "        **text_kwargs)\n",
    "\n",
    "\n",
    "\n",
    "plt.tick_params(axis='both', labelsize = 20);"
   ]
  },
  {
   "cell_type": "markdown",
   "metadata": {
    "id": "u7DV7cMdfGi7"
   },
   "source": [
    "# Feature Importances"
   ]
  },
  {
   "cell_type": "code",
   "execution_count": null,
   "metadata": {
    "colab": {
     "base_uri": "https://localhost:8080/",
     "height": 0
    },
    "executionInfo": {
     "elapsed": 21,
     "status": "ok",
     "timestamp": 1644335264732,
     "user": {
      "displayName": "Paul Meza-Morales",
      "photoUrl": "https://lh3.googleusercontent.com/a/default-user=s64",
      "userId": "09980096254882972363"
     },
     "user_tz": 480
    },
    "id": "GfRaibQYfIeW",
    "outputId": "996b2557-1be9-41a6-ccaa-c8ce49642c1a"
   },
   "outputs": [],
   "source": [
    "imp = pd.DataFrame(best.feature_importances_, \n",
    "                   columns = ['Importance'], \n",
    "                   index = Xscaled_df.columns)\n",
    "\n",
    "imp = imp.sort_values(['Importance'], ascending = False)\n",
    "imp"
   ]
  },
  {
   "cell_type": "code",
   "execution_count": null,
   "metadata": {
    "colab": {
     "base_uri": "https://localhost:8080/",
     "height": 0
    },
    "executionInfo": {
     "elapsed": 19,
     "status": "ok",
     "timestamp": 1644335264732,
     "user": {
      "displayName": "Paul Meza-Morales",
      "photoUrl": "https://lh3.googleusercontent.com/a/default-user=s64",
      "userId": "09980096254882972363"
     },
     "user_tz": 480
    },
    "id": "M9OOVQGWfNUK",
    "outputId": "599d8c6a-3500-4268-9570-d300ade407c6"
   },
   "outputs": [],
   "source": [
    "imp['Features'] = imp.index\n",
    "imp"
   ]
  },
  {
   "cell_type": "code",
   "execution_count": null,
   "metadata": {
    "colab": {
     "base_uri": "https://localhost:8080/",
     "height": 0
    },
    "executionInfo": {
     "elapsed": 382,
     "status": "ok",
     "timestamp": 1644335265097,
     "user": {
      "displayName": "Paul Meza-Morales",
      "photoUrl": "https://lh3.googleusercontent.com/a/default-user=s64",
      "userId": "09980096254882972363"
     },
     "user_tz": 480
    },
    "id": "v2Pd1erKiyMf",
    "outputId": "8d5cce5f-3641-49c3-eef8-f3c9810edacc"
   },
   "outputs": [],
   "source": [
    "fig = plt.figure(figsize=(6, 15))\n",
    "\n",
    "ax = sns.barplot(y=\"Features\", x=\"Importance\", data=imp)\n",
    "#ax.axhline(0.125, color='b', lw=3)\n",
    "\n",
    "plt.rc('xtick', labelsize=20)\n",
    "plt.rc('ytick', labelsize=20)\n",
    "plt.xlabel('Features', fontsize = 20)\n",
    "plt.ylabel('Features Score', fontsize = 20)\n",
    "plt.tick_params(axis='both', labelsize = 15)\n",
    "plt.tick_params(axis='y', rotation = 0)\n",
    "#plt.ylim(0, 0.2);"
   ]
  },
  {
   "cell_type": "markdown",
   "metadata": {
    "id": "X5rycUuajRol"
   },
   "source": [
    "# Reduce Model"
   ]
  },
  {
   "cell_type": "code",
   "execution_count": null,
   "metadata": {
    "executionInfo": {
     "elapsed": 21773,
     "status": "ok",
     "timestamp": 1644335286863,
     "user": {
      "displayName": "Paul Meza-Morales",
      "photoUrl": "https://lh3.googleusercontent.com/a/default-user=s64",
      "userId": "09980096254882972363"
     },
     "user_tz": 480
    },
    "id": "ko34MQNCjLuD"
   },
   "outputs": [],
   "source": [
    "regressors = []\n",
    "MSE_train  = []\n",
    "MAE_train  = []\n",
    "R2_train   = []\n",
    "\n",
    "MSE_test   = []\n",
    "MAE_test   = []\n",
    "R2_test    = []\n",
    "\n",
    "for n in range(len(imp)):\n",
    "    regressors.append(n)\n",
    "    regressor = list(imp['Features'][0:n+1])\n",
    "    features = Xscaled_df[regressor]\n",
    "    \n",
    "    X_train0, X_test0, y_train0, y_test0 = train_test_split(features, y, test_size=0.3, random_state=1)\n",
    "    #loaded_model = pkl.load(open('/content/drive/MyDrive/ColabNotebooks/Fourth_Pass: Ale_DataBase/ML_model.sav', 'rb'))\n",
    "    #result = loaded_model.score(X_test, Y_test)\n",
    "\n",
    "    gs = pkl.load(open('/content/drive/MyDrive/ColabNotebooks/Fourth_Pass: Ale_DataBase/Features_Matminer/ML_model.sav', 'rb'))   \n",
    "    gs.fit(X_train0, y_train0)\n",
    "\n",
    "    y_pred_train0 = gs.predict(X_train0)\n",
    "    y_pred_test0  = gs.predict(X_test0)\n",
    "\n",
    "    MSE_train0 = mean_squared_error(y_train0, y_pred_train0) ** 0.5\n",
    "    MSE_test0  = mean_squared_error(y_test0, y_pred_test0) ** 0.5\n",
    "    MAE_train0 = mean_absolute_error(y_train0, y_pred_train0)\n",
    "    MAE_test0  = mean_absolute_error(y_test0, y_pred_test0)\n",
    "    r20_train0 = r2_score(y_train0, y_pred_train0)\n",
    "    r20_test0  = r2_score(y_test0, y_pred_test0)\n",
    "    \n",
    "    MSE_train.append(MSE_train0)\n",
    "    MAE_train.append(MAE_train0)\n",
    "    R2_train.append(r20_train0)\n",
    "    \n",
    "    MSE_test.append(MSE_test0)\n",
    "    MAE_test.append(MAE_test0)\n",
    "    R2_test.append(r20_test0)\n",
    "\n"
   ]
  },
  {
   "cell_type": "code",
   "execution_count": null,
   "metadata": {
    "colab": {
     "base_uri": "https://localhost:8080/"
    },
    "executionInfo": {
     "elapsed": 14,
     "status": "ok",
     "timestamp": 1644335286863,
     "user": {
      "displayName": "Paul Meza-Morales",
      "photoUrl": "https://lh3.googleusercontent.com/a/default-user=s64",
      "userId": "09980096254882972363"
     },
     "user_tz": 480
    },
    "id": "rqwPHGN6jMtX",
    "outputId": "e3472efc-7265-4f5d-fdbe-7d61e06474a2"
   },
   "outputs": [],
   "source": [
    "regressors = [x+1 for x in regressors]\n",
    "regressors"
   ]
  },
  {
   "cell_type": "code",
   "execution_count": null,
   "metadata": {
    "colab": {
     "base_uri": "https://localhost:8080/"
    },
    "executionInfo": {
     "elapsed": 11,
     "status": "ok",
     "timestamp": 1644335286864,
     "user": {
      "displayName": "Paul Meza-Morales",
      "photoUrl": "https://lh3.googleusercontent.com/a/default-user=s64",
      "userId": "09980096254882972363"
     },
     "user_tz": 480
    },
    "id": "SdYkbJJDm0RM",
    "outputId": "205b74cc-005c-4294-d16f-1ca084040484"
   },
   "outputs": [],
   "source": [
    "min(MAE_test)-5.0"
   ]
  },
  {
   "cell_type": "code",
   "execution_count": null,
   "metadata": {
    "colab": {
     "base_uri": "https://localhost:8080/",
     "height": 420
    },
    "executionInfo": {
     "elapsed": 394,
     "status": "ok",
     "timestamp": 1644335287250,
     "user": {
      "displayName": "Paul Meza-Morales",
      "photoUrl": "https://lh3.googleusercontent.com/a/default-user=s64",
      "userId": "09980096254882972363"
     },
     "user_tz": 480
    },
    "id": "-ao9xFDsjMxe",
    "outputId": "e3ff6f77-27a6-47c3-a1e6-7563ad0716c3"
   },
   "outputs": [],
   "source": [
    "fig = plt.figure(figsize=(8, 6))\n",
    "\n",
    "plt.scatter(regressors, MAE_train, s=120, c='#F56600', alpha=0.7, edgecolors='k', linewidths=1, label='MAE Training')\n",
    "plt.scatter(regressors, MAE_test, s=120, c='#522D80', alpha=0.7, edgecolors='k', linewidths=1, label='MAE Test')\n",
    "\n",
    "plt.rc('xtick', labelsize=20)\n",
    "plt.rc('ytick', labelsize=20)\n",
    "\n",
    "plt.xlabel('Number of Features', fontsize = 20)\n",
    "plt.ylabel('MAE', fontsize = 20)\n",
    "\n",
    "plt.tick_params(axis='both', labelsize = 15)\n",
    "plt.legend(loc='upper right', fontsize = 16, ncol = 1).get_frame().set_edgecolor('w')\n",
    "plt.grid(True)\n",
    "\n",
    "plt.xlim(0, 25)\n",
    "plt.ylim(min(MAE_train)-1.0, max(MAE_train)+2.0)\n",
    ";"
   ]
  },
  {
   "cell_type": "code",
   "execution_count": null,
   "metadata": {
    "colab": {
     "base_uri": "https://localhost:8080/",
     "height": 426
    },
    "executionInfo": {
     "elapsed": 19,
     "status": "ok",
     "timestamp": 1644335287251,
     "user": {
      "displayName": "Paul Meza-Morales",
      "photoUrl": "https://lh3.googleusercontent.com/a/default-user=s64",
      "userId": "09980096254882972363"
     },
     "user_tz": 480
    },
    "id": "V5i6JaMNjMzt",
    "outputId": "60faa0fe-73d8-4ad3-9fb4-f4c7c719712a"
   },
   "outputs": [],
   "source": [
    "fig = plt.figure(figsize=(8, 6))\n",
    "\n",
    "plt.scatter(regressors, R2_train, s=120, c='#F56600', alpha=0.7, edgecolors='k', linewidths=1, label='MAE Training')\n",
    "plt.scatter(regressors, R2_test, s=120, c='#522D80', alpha=0.7, edgecolors='k', linewidths=1, label='MAE Test')\n",
    "\n",
    "plt.rc('xtick', labelsize=20)\n",
    "plt.rc('ytick', labelsize=20)\n",
    "\n",
    "plt.xlabel('Number of Features', fontsize = 20)\n",
    "plt.ylabel('R$^2$', fontsize = 20, rotation = 0, labelpad= 20)\n",
    "\n",
    "plt.tick_params(axis='both', labelsize = 15)\n",
    "plt.legend(loc='lower right', fontsize = 16, ncol = 1).get_frame().set_edgecolor('w')\n",
    "plt.grid(True)\n",
    "\n",
    "plt.xlim(0, 25)\n",
    "plt.ylim(min(R2_test)-0.1, 1)"
   ]
  },
  {
   "cell_type": "code",
   "execution_count": null,
   "metadata": {
    "executionInfo": {
     "elapsed": 15,
     "status": "ok",
     "timestamp": 1644335287251,
     "user": {
      "displayName": "Paul Meza-Morales",
      "photoUrl": "https://lh3.googleusercontent.com/a/default-user=s64",
      "userId": "09980096254882972363"
     },
     "user_tz": 480
    },
    "id": "mlSqVyOojM2B"
   },
   "outputs": [],
   "source": [
    "nf = 15\n",
    "regressor_list = list(imp['Features'][0:nf])\n",
    "#regressor_list"
   ]
  },
  {
   "cell_type": "code",
   "execution_count": null,
   "metadata": {
    "colab": {
     "base_uri": "https://localhost:8080/",
     "height": 374
    },
    "executionInfo": {
     "elapsed": 16,
     "status": "ok",
     "timestamp": 1644335287252,
     "user": {
      "displayName": "Paul Meza-Morales",
      "photoUrl": "https://lh3.googleusercontent.com/a/default-user=s64",
      "userId": "09980096254882972363"
     },
     "user_tz": 480
    },
    "id": "korvDGnwjM47",
    "outputId": "541c1992-2214-4bf5-fee3-b9db4d066a0c"
   },
   "outputs": [],
   "source": [
    "features_list = Xscaled_df[regressor_list]\n",
    "features_list.head()"
   ]
  },
  {
   "cell_type": "code",
   "execution_count": null,
   "metadata": {
    "executionInfo": {
     "elapsed": 16,
     "status": "ok",
     "timestamp": 1644335287253,
     "user": {
      "displayName": "Paul Meza-Morales",
      "photoUrl": "https://lh3.googleusercontent.com/a/default-user=s64",
      "userId": "09980096254882972363"
     },
     "user_tz": 480
    },
    "id": "p3XlLiANjM66"
   },
   "outputs": [],
   "source": [
    "X_train1, X_test1, y_train1, y_test1 = train_test_split(features_list, y, test_size=0.3, random_state=1)"
   ]
  },
  {
   "cell_type": "code",
   "execution_count": null,
   "metadata": {
    "executionInfo": {
     "elapsed": 12,
     "status": "ok",
     "timestamp": 1644335287253,
     "user": {
      "displayName": "Paul Meza-Morales",
      "photoUrl": "https://lh3.googleusercontent.com/a/default-user=s64",
      "userId": "09980096254882972363"
     },
     "user_tz": 480
    },
    "id": "zJZTI0DDjM9L"
   },
   "outputs": [],
   "source": [
    "model = pkl.load(open('./ML_model.sav', 'rb'))   \n"
   ]
  },
  {
   "cell_type": "code",
   "execution_count": null,
   "metadata": {
    "colab": {
     "base_uri": "https://localhost:8080/"
    },
    "executionInfo": {
     "elapsed": 2846,
     "status": "ok",
     "timestamp": 1644335290087,
     "user": {
      "displayName": "Paul Meza-Morales",
      "photoUrl": "https://lh3.googleusercontent.com/a/default-user=s64",
      "userId": "09980096254882972363"
     },
     "user_tz": 480
    },
    "id": "ABAi0GKwjM-l",
    "outputId": "b81ad5bb-5cf9-40d0-8418-857a1eb0d12b"
   },
   "outputs": [],
   "source": [
    "model.fit(X_train1, y_train1)"
   ]
  },
  {
   "cell_type": "code",
   "execution_count": null,
   "metadata": {
    "colab": {
     "base_uri": "https://localhost:8080/"
    },
    "executionInfo": {
     "elapsed": 44,
     "status": "ok",
     "timestamp": 1644335290092,
     "user": {
      "displayName": "Paul Meza-Morales",
      "photoUrl": "https://lh3.googleusercontent.com/a/default-user=s64",
      "userId": "09980096254882972363"
     },
     "user_tz": 480
    },
    "id": "eC6nJi7y1HZD",
    "outputId": "7121c818-a876-4a79-fa0a-53dc5d9c1e99"
   },
   "outputs": [],
   "source": [
    "#best1 = model.best_estimator_\n",
    "\n",
    "y_pred_train1 = model.predict(X_train1)\n",
    "y_pred_test1  = model.predict(X_test1)\n",
    "\n",
    "MSE_train1 = mean_squared_error(y_train1, y_pred_train1) ** 0.5\n",
    "MSE_test1  = mean_squared_error(y_test1, y_pred_test1) ** 0.5\n",
    "MAE_train1 = mean_absolute_error(y_train1, y_pred_train1)\n",
    "MAE_test1  = mean_absolute_error(y_test1, y_pred_test1)\n",
    "R2_train1 = r2_score(y_train1, y_pred_train1)\n",
    "R2_test1  = r2_score(y_test1, y_pred_test1)\n",
    "\n",
    "print(MSE_train1)\n",
    "print(MAE_train1)\n",
    "print(R2_train1)\n",
    "print('\\n')\n",
    "print(MSE_test1)\n",
    "print(MAE_test1)\n",
    "print(R2_test1)"
   ]
  },
  {
   "cell_type": "code",
   "execution_count": null,
   "metadata": {
    "colab": {
     "base_uri": "https://localhost:8080/",
     "height": 0
    },
    "executionInfo": {
     "elapsed": 33,
     "status": "ok",
     "timestamp": 1644335290093,
     "user": {
      "displayName": "Paul Meza-Morales",
      "photoUrl": "https://lh3.googleusercontent.com/a/default-user=s64",
      "userId": "09980096254882972363"
     },
     "user_tz": 480
    },
    "id": "cCzrNwey1Hbq",
    "outputId": "b4e6f2f5-f666-4118-a991-03929c968c56"
   },
   "outputs": [],
   "source": [
    "#y_pred_train = best.predict(X_train)\n",
    "#y_pred_test = best.predict(X_test)\n",
    "\n",
    "x_ref_line = [-10, 90]\n",
    "y_ref_line = [-10, 90]\n",
    "\n",
    "x_ref_line_2 = np.linspace(-10, 60, 100)\n",
    "y_ref_line_2 = np.linspace(-10, 60, 100)\n",
    "\n",
    "# Print Result and Output figure\n",
    "x11 = np.array(y_train1)\n",
    "y11 = np.array(y_pred_train1)\n",
    "x21 = np.array(y_test1)\n",
    "y21 = np.array(y_pred_test1)\n",
    "\n",
    "print('The rmse train:', mean_squared_error(y_train1, y_pred_train1) ** 0.5)\n",
    "print('The rmse test:', mean_squared_error(y_test1, y_pred_test1) ** 0.5)\n",
    "print('The MAE train:', mean_absolute_error(y_train1, y_pred_train1))\n",
    "print('The MAE test:', mean_absolute_error(y_test1, y_pred_test1))\n",
    "print('The R^2 train:', r2_score(y_train1, y_pred_train1))\n",
    "print('The R^2 test:', r2_score(y_test1, y_pred_test1))\n",
    "\n",
    "fig = plt.figure(figsize=(8.5, 6))\n",
    "\n",
    "axes1 = fig.add_axes([0.1, 0.1, 0.8, 0.8]) # main axes\n",
    "axes2 = fig.add_axes([0.48, 0.62, 0.4, 0.27]) # inset axes\n",
    "\n",
    "z1 = np.polyfit(x11, y11, 1)\n",
    "p1 = np.poly1d(z1)\n",
    "\n",
    "# Main Plot\n",
    "axes1.plot(x_ref_line, y_ref_line, 'k--', linewidth=3.5, label='Perfect Fit (y = x)')\n",
    "\n",
    "axes1.scatter(x11, y11, s=120, c='blue', alpha=0.5, edgecolors='k', linewidths=1, label='Training set')\n",
    "axes1.scatter(x21, y21, s=120, c='red', alpha=0.5, edgecolors='k', linewidths=1, label='Test set')\n",
    "\n",
    "axes1.set_xlabel('Total Number of crossing $\\pm$ 1eV', fontsize = 20)\n",
    "axes1.set_ylabel('Total Number of crossing $\\pm$ 1eV \\n (ML Predicted)', fontsize = 20)\n",
    "\n",
    "axes1.set_xlim(-5, 80)\n",
    "axes1.set_ylim(-5, 80)\n",
    "\n",
    "axes1.tick_params(axis='both', labelsize = 15)\n",
    "axes1.legend(loc='upper left', fontsize = 13, ncol = 1).get_frame().set_edgecolor('w')\n",
    "axes1.grid(True)\n",
    "\n",
    "# Inset plot\n",
    "axes2.set_facecolor('w')\n",
    "axes2.scatter(regressors, R2_train, s=50, c='#F56600', alpha=0.7, edgecolors='k', linewidths=1, label='MAE Training')\n",
    "axes2.scatter(regressors[nf-1], R2_train[nf-1], marker =\"*\", s=250, c='b', alpha=0.7, edgecolors='k', linewidths=1)\n",
    "\n",
    "axes2.axvline(x=regressors[nf-1], \n",
    "              ymin=0, \n",
    "              ymax=R2_train[nf-1], \n",
    "              color='b', \n",
    "              lw=3\n",
    "             )\n",
    "\n",
    "axes2.set_xlabel('Number of Features', fontsize = 12.5, labelpad=-1, c='k')\n",
    "axes2.set_ylabel('R$^2$', fontsize = 12.5, rotation = 0, labelpad= 10, c='k')\n",
    "axes2.tick_params(axis='both', labelsize = 12.5, labelcolor='k', grid_color='k',)\n",
    "axes2.grid(True, c='k')\n",
    "\n",
    "axes2.set_xlim(0, 25)\n",
    "axes2.set_ylim(min(R2_train)-0.1, max(R2_train)+0.1);"
   ]
  }
 ],
 "metadata": {
  "colab": {
   "collapsed_sections": [],
   "name": "ML_models: RobustScaler.ipynb",
   "provenance": []
  },
  "kernelspec": {
   "display_name": "Python 3 (ipykernel)",
   "language": "python",
   "name": "python3"
  },
  "language_info": {
   "codemirror_mode": {
    "name": "ipython",
    "version": 3
   },
   "file_extension": ".py",
   "mimetype": "text/x-python",
   "name": "python",
   "nbconvert_exporter": "python",
   "pygments_lexer": "ipython3",
   "version": "3.10.4"
  }
 },
 "nbformat": 4,
 "nbformat_minor": 1
}
